{
 "cells": [
  {
   "cell_type": "markdown",
   "metadata": {},
   "source": [
    "# Pytorch基礎\n",
    "Pytorchを使う上で一番ネックになるのはPytorchの文法、classの仕様などを詳しく知らないことです。\n",
    "<br>\n",
    "それを解説するipynbファイルを制作しました。<br>\n",
    "基本コマンド編は適宜既知の内容を読み飛ばして使用ください<br>\n",
    "目次\n",
    "- 基本コマンド\n",
    "- Dataloader定義\n",
    "- モデル定義\n",
    "- Pytorchの勾配について, 最適化の方法"
   ]
  },
  {
   "cell_type": "markdown",
   "metadata": {},
   "source": [
    "### 基本コマンド編"
   ]
  },
  {
   "cell_type": "code",
   "execution_count": 1,
   "metadata": {},
   "outputs": [],
   "source": [
    "#警告の非表示\n",
    "import warnings\n",
    "warnings.simplefilter(\"ignore\")"
   ]
  },
  {
   "cell_type": "markdown",
   "metadata": {},
   "source": [
    "Tensorの作り方<br>\n",
    "Pythonデフォルトにもあるリストからtorch.tensorで作る方法とnumpyのndarrayを使ってtorch.tensorかfrom_numpyから作る方法の二通りがある<br>\n",
    "引数にdtypeを加えることで型を変更することができる。<br>\n",
    "基本的にPytorchで使う方はfloat32型である。tensor.float()とすることでfloat32型の変換を行うこともできる。<br>"
   ]
  },
  {
   "cell_type": "code",
   "execution_count": 2,
   "metadata": {},
   "outputs": [
    {
     "name": "stdout",
     "output_type": "stream",
     "text": [
      "Pythonのリストから制作 tensor([1, 2, 3])\n",
      "Pythonのnumpyからtorch.tensorで制作 tensor([1, 2, 3])\n",
      "Pythonのnumpyからtorch.from_numpyで制作 tensor([1, 2, 3])\n",
      "dtypeを引数にすることで型をfloatへ tensor([1., 2., 3.])\n"
     ]
    }
   ],
   "source": [
    "import torch\n",
    "import numpy as np\n",
    "a = [1,2,3]\n",
    "b = np.array([1,2,3])\n",
    "print(\"Pythonのリストから制作\",torch.tensor(a))\n",
    "print(\"Pythonのnumpyからtorch.tensorで制作\",torch.tensor(b))\n",
    "print(\"Pythonのnumpyからtorch.from_numpyで制作\",torch.from_numpy(b))\n",
    "print(\"dtypeを引数にすることで型をfloatへ\", torch.tensor(a, dtype = torch.float))"
   ]
  },
  {
   "cell_type": "markdown",
   "metadata": {},
   "source": [
    "全成分が0と1のTensorの制作<br>\n",
    "torch.zeros, torch.onesはtorch.zeros(d1,d2,...dn)のようにn次元目の要素数を指定して制作する"
   ]
  },
  {
   "cell_type": "code",
   "execution_count": 3,
   "metadata": {},
   "outputs": [
    {
     "name": "stdout",
     "output_type": "stream",
     "text": [
      "torch.zerosで制作(3,3)Tensor\n",
      " torch.Size([3, 3]) \n",
      " tensor([[0., 0., 0.],\n",
      "        [0., 0., 0.],\n",
      "        [0., 0., 0.]])\n",
      "torch.onesで制作(3,3)Tensor\n",
      " torch.Size([3, 3]) \n",
      " tensor([[1., 1., 1.],\n",
      "        [1., 1., 1.],\n",
      "        [1., 1., 1.]])\n"
     ]
    }
   ],
   "source": [
    "a = torch.zeros(3,3)\n",
    "b = torch.ones(3,3)\n",
    "print(\"torch.zerosで制作(3,3)Tensor\\n\", a.shape, \"\\n\", a)\n",
    "print(\"torch.onesで制作(3,3)Tensor\\n\", b.shape, \"\\n\", b)"
   ]
  },
  {
   "cell_type": "markdown",
   "metadata": {},
   "source": [
    "乱数Tensorの作成<br>\n",
    "0から1までの一様分布ならば<br>\n",
    "torch.randはtorch.rand(d1,d2,...dn)のようにn次元目の要素数を指定して制作する"
   ]
  },
  {
   "cell_type": "code",
   "execution_count": 4,
   "metadata": {},
   "outputs": [
    {
     "name": "stdout",
     "output_type": "stream",
     "text": [
      "torch.randで制作(3,3)Tensor\n",
      " torch.Size([3, 3]) \n",
      " tensor([[0.1493, 0.4873, 0.4839],\n",
      "        [0.0998, 0.0131, 0.1331],\n",
      "        [0.0270, 0.1556, 0.7052]])\n"
     ]
    }
   ],
   "source": [
    "a = torch.rand(3,3)\n",
    "print(\"torch.randで制作(3,3)Tensor\\n\", a.shape, \"\\n\", a)\n",
    "#他にも, torch.randnで正規分布の乱数の生成, torch.bernoulliでベルヌーイ分布の乱数の生成, torch.multinominalで多項分布の乱数の生成が行われる"
   ]
  },
  {
   "cell_type": "markdown",
   "metadata": {},
   "source": [
    "値を指定して行列を作るのはtorch.full関数を用いる<br>\n",
    "torch.fullはtorch.full(size = (tuple or list), fill_value = (int, float))のように指定する"
   ]
  },
  {
   "cell_type": "code",
   "execution_count": 5,
   "metadata": {},
   "outputs": [
    {
     "name": "stdout",
     "output_type": "stream",
     "text": [
      "torch.fullで制作\n",
      " tensor([[100, 100, 100],\n",
      "        [100, 100, 100],\n",
      "        [100, 100, 100]])\n"
     ]
    }
   ],
   "source": [
    "a = torch.full(size = (3,3), fill_value = 100)\n",
    "print(\"torch.fullで制作\\n\", a)"
   ]
  },
  {
   "cell_type": "markdown",
   "metadata": {},
   "source": [
    "単位行列はtorch.eyeで制作する引数には次元数を指定する。"
   ]
  },
  {
   "cell_type": "code",
   "execution_count": 6,
   "metadata": {},
   "outputs": [
    {
     "name": "stdout",
     "output_type": "stream",
     "text": [
      "torch.eyeで制作, 3d対角行列\n",
      " tensor([[1., 0., 0.],\n",
      "        [0., 1., 0.],\n",
      "        [0., 0., 1.]])\n"
     ]
    }
   ],
   "source": [
    "a = torch.eye(3)\n",
    "print(\"torch.eyeで制作, 3d対角行列\\n\",a)"
   ]
  },
  {
   "cell_type": "markdown",
   "metadata": {},
   "source": [
    "等差数列のTensorを作成<br>\n",
    "torch.arrange(start = Number, end = Number, step = Number)"
   ]
  },
  {
   "cell_type": "code",
   "execution_count": 7,
   "metadata": {},
   "outputs": [
    {
     "name": "stdout",
     "output_type": "stream",
     "text": [
      "開始: 0, 終了: 100, step: 2\n",
      " tensor([ 0,  2,  4,  6,  8, 10, 12, 14, 16, 18, 20, 22, 24, 26, 28, 30, 32, 34,\n",
      "        36, 38, 40, 42, 44, 46, 48, 50, 52, 54, 56, 58, 60, 62, 64, 66, 68, 70,\n",
      "        72, 74, 76, 78, 80, 82, 84, 86, 88, 90, 92, 94, 96, 98])\n"
     ]
    }
   ],
   "source": [
    "print(\"開始: 0, 終了: 100, step: 2\\n\",torch.arange(start = 0, end = 100, step = 2))"
   ]
  },
  {
   "cell_type": "markdown",
   "metadata": {},
   "source": [
    "Tensorのデータ型と形状を操作する<br>\n",
    "データ型を変更するのは制作したTensorにtoメソッドを使用します。<br>\n",
    "形状指定は転置にはtransposeメソッド, 形状変更はreshapeかviewメソッド, <br>サイズが1の次元を追加するのはunsqueezeメソッドサイズが1の次元を削除はsqueezeメソッドを使う<br>\n",
    "指定された順に次元を入れ替えるにはtorch.permuteメソッドを用いる<br>\n",
    "各関数, メソッドの引数は<br>\n",
    "tensor.transpose(転置する次元1つ目,転置する次元2つ目)<br>\n",
    "tensor.reshape(d1,d2,d3,...dn)<br>\n",
    "tensor.unsqueeze(追加するサイズ1の次元)<br>\n",
    "tensor.squeeze(削除するサイズ1の次元)<br>\n",
    "tensor.permute(d1, d2, ..., dn)<br>\n",
    "のように用いる"
   ]
  },
  {
   "cell_type": "code",
   "execution_count": 8,
   "metadata": {},
   "outputs": [
    {
     "name": "stdout",
     "output_type": "stream",
     "text": [
      "元のTensor\n",
      " tensor([[[1],\n",
      "         [2],\n",
      "         [3]],\n",
      "\n",
      "        [[4],\n",
      "         [5],\n",
      "         [6]]]) torch.Size([2, 3, 1])\n",
      "転置\n",
      " tensor([[[1],\n",
      "         [4]],\n",
      "\n",
      "        [[2],\n",
      "         [5]],\n",
      "\n",
      "        [[3],\n",
      "         [6]]]) torch.Size([3, 2, 1])\n",
      "形状変更 reshape\n",
      " tensor([[1],\n",
      "        [2],\n",
      "        [3],\n",
      "        [4],\n",
      "        [5],\n",
      "        [6]]) torch.Size([6, 1])\n",
      "形状変更 view\n",
      " tensor([[1],\n",
      "        [2],\n",
      "        [3],\n",
      "        [4],\n",
      "        [5],\n",
      "        [6]]) torch.Size([6, 1])\n",
      "サイズが1の次元を追加\n",
      " tensor([[[[1]],\n",
      "\n",
      "         [[2]],\n",
      "\n",
      "         [[3]]],\n",
      "\n",
      "\n",
      "        [[[4]],\n",
      "\n",
      "         [[5]],\n",
      "\n",
      "         [[6]]]]) torch.Size([2, 3, 1, 1])\n",
      "サイズが1の次元を削除\n",
      " tensor([[1, 2, 3],\n",
      "        [4, 5, 6]]) torch.Size([2, 3])\n",
      "次元の入れ替え\n",
      " tensor([[[1, 4],\n",
      "         [2, 5],\n",
      "         [3, 6]]]) torch.Size([1, 3, 2])\n"
     ]
    }
   ],
   "source": [
    "a = torch.tensor([[[1],[2],[3]],[[4],[5],[6]]])\n",
    "print(\"元のTensor\\n\", a, a.shape)\n",
    "print(\"転置\\n\", a.transpose(0,1),a.transpose(0,1).shape)\n",
    "print(\"形状変更 reshape\\n\", a.reshape(-1,1),a.reshape(-1,1).shape) \n",
    "#numpyを使い慣れている人ならわかるように、引数に-1を指定すると, 0以上で指定した次元のサイズをいい感じに整えてくれます、\n",
    "print(\"形状変更 view\\n\", a.reshape(-1,1),a.view(-1,1).shape)\n",
    "# a.viewでエラーが出ることがある場合は.contiguous()を呼んでからview()する(https://discuss.pytorch.org/t/runtimeerror-input-is-not-contiguous/930)\n",
    "print(\"サイズが1の次元を追加\\n\", a.unsqueeze(2), a.unsqueeze(2).shape)\n",
    "print(\"サイズが1の次元を削除\\n\", a.squeeze(2), a.squeeze(2).shape)\n",
    "print(\"次元の入れ替え\\n\", a.permute(2,1,0), a.permute(2,1,0).shape) \n",
    "#指定するのは次元, 今回は元の行列の3次元目(2)を1次元目(0),2次元目(1)を2次元目(1), 1次元目(0)を3次元目(2)にしている。"
   ]
  },
  {
   "cell_type": "markdown",
   "metadata": {},
   "source": [
    "squeezeとunsqueezeはよく使うため詳しく解説しておく。<br>\n",
    "tensor.squeeze(num): num次元目のサイズが1ならばその次元を消す。サイズが1でなければ消さない<br>\n",
    "tensor.unsqueeze(num): num次元目に次元を増やしてサイズを1とする。<br>\n",
    "増やし方は、<br>\n",
    "$(d_0, d_1, d_{num}, d_{num+1}, d_n) -> (d_0, d_1, d_{num},1, d_{num+1}, d_n)$<br>\n",
    "と言った感じである。$num \\gt n$のときはエラーとなる。<br>"
   ]
  },
  {
   "cell_type": "code",
   "execution_count": 9,
   "metadata": {},
   "outputs": [
    {
     "name": "stdout",
     "output_type": "stream",
     "text": [
      "元のTensor: \n",
      " tensor([[[1],\n",
      "         [2],\n",
      "         [3]],\n",
      "\n",
      "        [[4],\n",
      "         [5],\n",
      "         [6]]]) torch.Size([2, 3, 1])\n",
      "tensor.squeeze(0): \n",
      " tensor([[[1],\n",
      "         [2],\n",
      "         [3]],\n",
      "\n",
      "        [[4],\n",
      "         [5],\n",
      "         [6]]]) torch.Size([2, 3, 1])\n",
      "tensor.squeeze(1): \n",
      " tensor([[[1],\n",
      "         [2],\n",
      "         [3]],\n",
      "\n",
      "        [[4],\n",
      "         [5],\n",
      "         [6]]]) torch.Size([2, 3, 1])\n",
      "tensor.squeeze(2): \n",
      " tensor([[1, 2, 3],\n",
      "        [4, 5, 6]]) torch.Size([2, 3])\n"
     ]
    }
   ],
   "source": [
    "a = torch.tensor([[[1],[2],[3]],[[4],[5],[6]]])\n",
    "print(\"元のTensor: \\n\", a, a.shape)\n",
    "print(\"tensor.squeeze(0): \\n\", a.squeeze(0), a.squeeze(0).shape)\n",
    "print(\"tensor.squeeze(1): \\n\", a.squeeze(1), a.squeeze(1).shape)\n",
    "print(\"tensor.squeeze(2): \\n\", a.squeeze(2), a.squeeze(2).shape)"
   ]
  },
  {
   "cell_type": "code",
   "execution_count": 10,
   "metadata": {},
   "outputs": [
    {
     "name": "stdout",
     "output_type": "stream",
     "text": [
      "元のTensor: \n",
      " tensor([[[1],\n",
      "         [2],\n",
      "         [3]],\n",
      "\n",
      "        [[4],\n",
      "         [5],\n",
      "         [6]]]) torch.Size([2, 3, 1])\n",
      "tensor.unsqueeze(0):\n",
      " tensor([[[[1],\n",
      "          [2],\n",
      "          [3]],\n",
      "\n",
      "         [[4],\n",
      "          [5],\n",
      "          [6]]]]) torch.Size([1, 2, 3, 1])\n",
      "tensor.unsqueeze(1):\n",
      " tensor([[[[1],\n",
      "          [2],\n",
      "          [3]]],\n",
      "\n",
      "\n",
      "        [[[4],\n",
      "          [5],\n",
      "          [6]]]]) torch.Size([2, 1, 3, 1])\n",
      "tensor.unsqueeze(2):\n",
      " tensor([[[[1]],\n",
      "\n",
      "         [[2]],\n",
      "\n",
      "         [[3]]],\n",
      "\n",
      "\n",
      "        [[[4]],\n",
      "\n",
      "         [[5]],\n",
      "\n",
      "         [[6]]]]) torch.Size([2, 3, 1, 1])\n",
      "tensor.unsqueeze(3):\n",
      " tensor([[[[1]],\n",
      "\n",
      "         [[2]],\n",
      "\n",
      "         [[3]]],\n",
      "\n",
      "\n",
      "        [[[4]],\n",
      "\n",
      "         [[5]],\n",
      "\n",
      "         [[6]]]]) torch.Size([2, 3, 1, 1])\n"
     ]
    }
   ],
   "source": [
    "print(\"元のTensor: \\n\", a, a.shape)\n",
    "print(\"tensor.unsqueeze(0):\\n\", a.unsqueeze(0), a.unsqueeze(0).shape)\n",
    "print(\"tensor.unsqueeze(1):\\n\", a.unsqueeze(1), a.unsqueeze(1).shape)\n",
    "print(\"tensor.unsqueeze(2):\\n\", a.unsqueeze(2), a.unsqueeze(2).shape)\n",
    "print(\"tensor.unsqueeze(3):\\n\", a.unsqueeze(3), a.unsqueeze(3).shape)"
   ]
  },
  {
   "cell_type": "markdown",
   "metadata": {},
   "source": [
    "Tensorでの算術演算<br>\n",
    "基本的にはnumpyと同じなので使い慣れている人には大丈夫なはずです。<br>\n",
    "Broadcastなどの仕様を知らない場合は理解しておきましょう。<br>"
   ]
  },
  {
   "cell_type": "code",
   "execution_count": 11,
   "metadata": {},
   "outputs": [],
   "source": [
    "#説明に使うTensorの定義\n",
    "a = torch.tensor([[1.,2.,3.],[4.,5.,6.]]) #size (2,3)のTensor\n",
    "b = torch.tensor([[1.,2.],[3.,4.],[5.,6.]]) #size (3,2)のTensor\n",
    "c = 10. #スカラー\n",
    "d = torch.tensor([1.,2.,3.]) #size (3)のTensor\n",
    "e = torch.tensor([[7.,8.,9.],[1.,2.,3.]])"
   ]
  },
  {
   "cell_type": "markdown",
   "metadata": {},
   "source": [
    "行列の要素積(アダマール積)<br>\n",
    "行列の要素ごとの計算はtorch.multiply関数か、<br>Pythonの演算記号*を用いるものの2通りがあります。<br>どちらも同じ計算結果となります"
   ]
  },
  {
   "cell_type": "code",
   "execution_count": 12,
   "metadata": {},
   "outputs": [
    {
     "name": "stdout",
     "output_type": "stream",
     "text": [
      "torch.multiplyの計算結果\n",
      " tensor([[ 7., 16., 27.],\n",
      "        [ 4., 10., 18.]])\n",
      "*での計算結果\n",
      " tensor([[ 7., 16., 27.],\n",
      "        [ 4., 10., 18.]])\n"
     ]
    }
   ],
   "source": [
    "print(\"torch.multiplyの計算結果\\n\", torch.multiply(a,e))\n",
    "print(\"*での計算結果\\n\", a*e)"
   ]
  },
  {
   "cell_type": "markdown",
   "metadata": {},
   "source": [
    "行列積<br>\n",
    "線形代数でよく使われる行列の積です。<br>\n",
    "torch.matmulもしくは@記号で計算ができます。<br>\n",
    "torch.dotでの計算も可能です。"
   ]
  },
  {
   "cell_type": "code",
   "execution_count": 13,
   "metadata": {},
   "outputs": [
    {
     "name": "stdout",
     "output_type": "stream",
     "text": [
      "torch.multiplyの計算結果\n",
      " tensor([[22., 28.],\n",
      "        [49., 64.]])\n",
      "@での計算結果\n",
      " tensor([[22., 28.],\n",
      "        [49., 64.]])\n"
     ]
    }
   ],
   "source": [
    "print(\"torch.multiplyの計算結果\\n\", torch.matmul(a,b))\n",
    "print(\"@での計算結果\\n\", a@b)"
   ]
  },
  {
   "cell_type": "markdown",
   "metadata": {},
   "source": [
    "三階以上のTensorの掛け算には<br>\n",
    "torch.bmm(Tensor1, Tensor2)(batch matrix matrix product)や、torch.einsumを用いる方が良いです。<br>\n",
    "torch.bmmは3階のテンソルで、それぞれが(b, n, m)と(b, m, p)のsizeを有する場合に(b, n, p)のテンソルを出力します。<br>"
   ]
  },
  {
   "cell_type": "markdown",
   "metadata": {},
   "source": [
    "##### einsum, bmm共にattentionの実装において\n",
    "##### pythonに組み込まれているfor文を使わずに効率よくバッチごとの計算を行うために必要な関数です。\n",
    "##### 今はわからなくてもattention_from_scratch.ipynbでのattentionの実装では必ずマスターしましょう。"
   ]
  },
  {
   "cell_type": "code",
   "execution_count": 14,
   "metadata": {},
   "outputs": [
    {
     "name": "stdout",
     "output_type": "stream",
     "text": [
      "計算対象のTensor:  torch.Size([2, 3, 4]) torch.Size([2, 4, 5])\n",
      "torch.bmm: \n",
      " tensor([[[4., 4., 4., 4., 4.],\n",
      "         [4., 4., 4., 4., 4.],\n",
      "         [4., 4., 4., 4., 4.]],\n",
      "\n",
      "        [[4., 4., 4., 4., 4.],\n",
      "         [4., 4., 4., 4., 4.],\n",
      "         [4., 4., 4., 4., 4.]]]) torch.Size([2, 3, 5])\n"
     ]
    }
   ],
   "source": [
    "a = torch.ones(2, 3, 4)\n",
    "b = torch.ones(2, 4, 5)\n",
    "print(\"計算対象のTensor: \", a.shape, b.shape)\n",
    "print(\"torch.bmm: \\n\", torch.bmm(a,b), torch.bmm(a,b).shape)"
   ]
  },
  {
   "cell_type": "markdown",
   "metadata": {},
   "source": [
    "torch.einsumはアインシュタインの縮約記法による計算です。<br>\n",
    "einsumは、最初の引数に、計算を行う前と後のサイズを添字とした文字列で与え、第二、第三の引数にTensorを与えて計算します。<br>\n",
    "詳しくは公式ドキュメント(https://pytorch.org/docs/stable/torch.html#torch.einsum)を参照してください。<br>\n",
    "上のtorch.bmmでの計算は下のように実装できます<br>"
   ]
  },
  {
   "cell_type": "code",
   "execution_count": 15,
   "metadata": {},
   "outputs": [
    {
     "name": "stdout",
     "output_type": "stream",
     "text": [
      "計算対象のTensor:  torch.Size([2, 3, 4]) torch.Size([2, 4, 5])\n",
      "torch.einsum(\"bnm, bmp->bnp\", Tensor1, Tensor2): \n",
      " tensor([[[4., 4., 4., 4., 4.],\n",
      "         [4., 4., 4., 4., 4.],\n",
      "         [4., 4., 4., 4., 4.]],\n",
      "\n",
      "        [[4., 4., 4., 4., 4.],\n",
      "         [4., 4., 4., 4., 4.],\n",
      "         [4., 4., 4., 4., 4.]]]) torch.Size([2, 3, 5])\n"
     ]
    }
   ],
   "source": [
    "a = torch.ones(2, 3, 4)\n",
    "b = torch.ones(2, 4, 5)\n",
    "print(\"計算対象のTensor: \", a.shape, b.shape)\n",
    "print('torch.einsum(\"bnm, bmp->bnp\", Tensor1, Tensor2): \\n', torch.einsum(\"bnm, bmp->bnp\",a,b), torch.einsum(\"bnm, bmp->bnp\",a,b).shape)"
   ]
  },
  {
   "cell_type": "markdown",
   "metadata": {},
   "source": [
    "Tensorの足し算引き算\n",
    "Tensorの足し算引き算が可能になる条件は何通りかあります。\n",
    "- サイズが完全に揃っている場合\n",
    "- ブロードキャストが使える状態の場合\n",
    "- 計算対象の一方がスカラーの場合"
   ]
  },
  {
   "cell_type": "code",
   "execution_count": 16,
   "metadata": {},
   "outputs": [
    {
     "name": "stdout",
     "output_type": "stream",
     "text": [
      "サイズが完全に揃っている場合\n",
      " torch.Size([2, 3]) torch.Size([2, 3]) \n",
      " tensor([[ 8., 10., 12.],\n",
      "        [ 5.,  7.,  9.]])\n"
     ]
    }
   ],
   "source": [
    "#サイズが完全に揃っている場合\n",
    "#説明に使うTensorの定義\n",
    "a = torch.tensor([[1.,2.,3.],[4.,5.,6.]]) #size (2,3)のTensor\n",
    "e = torch.tensor([[7.,8.,9.],[1.,2.,3.]])\n",
    "print(\"サイズが完全に揃っている場合\\n\", a.shape, e.shape, \"\\n\" ,a + e)"
   ]
  },
  {
   "cell_type": "markdown",
   "metadata": {},
   "source": [
    "ブロードキャストが使える時の場合<br>\n",
    "ブロードキャストに関してはNumpyの記事を参照して欲しいです。<br>少し細かい話にはなりますが、\n",
    "計算対象のテンソルのサイズが合っていなくても、<br>一部のサイズが合っていれば計算ができるといった感じです。例えば<br>\n",
    "Tensor1: size (3,3), Tensor2: size (1,3)という2つのテンソルでTensor1 + Tensor2を計算する時に<br>\n",
    "Tensor2のサイズはTensor1に合わせて(3,3)というサイズにまで拡張されて計算されます。<br>\n",
    "このときはTensor2 = [1,2,3]ならば、Tensor2は[1,2,3]という要素が3つになった(3,3)というサイズになって計算が行われます。<br>"
   ]
  },
  {
   "cell_type": "code",
   "execution_count": 17,
   "metadata": {},
   "outputs": [
    {
     "name": "stdout",
     "output_type": "stream",
     "text": [
      "Tensor1: torch.Size([2, 3])\n",
      "Tensor2: torch.Size([3])\n",
      "Tensor1 + Tensor2 =\n",
      " tensor([[2., 4., 6.],\n",
      "        [5., 7., 9.]])\n",
      "Tensor1 * Tensor2 =\n",
      " tensor([[ 1.,  4.,  9.],\n",
      "        [ 4., 10., 18.]])\n"
     ]
    }
   ],
   "source": [
    "print(\"Tensor1:\",  a.shape)\n",
    "print(\"Tensor2:\",  d.shape)\n",
    "print(\"Tensor1 + Tensor2 =\\n\", a + d)\n",
    "#実は、ブロードキャストは他の演算でも有効\n",
    "print(\"Tensor1 * Tensor2 =\\n\", a * d)"
   ]
  },
  {
   "cell_type": "markdown",
   "metadata": {},
   "source": [
    "スカラー演算<br>\n",
    "スカラーでの演算は全ての要素が足し引き、掛け算割り算されます。<br>\n",
    "スカラー演算はブロードキャストの一種と見なすこともできます"
   ]
  },
  {
   "cell_type": "code",
   "execution_count": 18,
   "metadata": {},
   "outputs": [
    {
     "name": "stdout",
     "output_type": "stream",
     "text": [
      "Tensor1:\n",
      " tensor([[1., 2., 3.],\n",
      "        [4., 5., 6.]])\n",
      "Scalar 10.0\n",
      "Scaler + Tensor1 = \n",
      " tensor([[11., 12., 13.],\n",
      "        [14., 15., 16.]])\n"
     ]
    }
   ],
   "source": [
    "print(\"Tensor1:\\n\",  a)\n",
    "print(\"Scalar\",  c)\n",
    "print(\"Scaler + Tensor1 = \\n\", a + c)"
   ]
  },
  {
   "cell_type": "markdown",
   "metadata": {},
   "source": [
    "##### ブロードキャスト機能をうまく活用すると効率的にコードを書くことができます。<br>他人のコードはブロードキャスト機能を用いたものが多いため、注意を払って読みましょう。<br>また、この他にもnumpyにあったsum, mean, var, std, max, minなども実装されています。"
   ]
  },
  {
   "cell_type": "markdown",
   "metadata": {},
   "source": [
    "$L_p$ノルムを求めることができます。$L_p$ノルムとは以下の式で定義される量です。<br>\n",
    "ベクトルではなく2階以上のテンソルの場合は2階以上のテンソルの場合の$L_p$ノルムを計算します。<br>\n",
    "$$\n",
    "    ||x||_p = \\left(x^p_1 + x^p_2 + \\ldots + x^p_N\\right)^{1/p}\n",
    "$$\n",
    "$L_p$ノルムを求める関数にはtorch.linalg.norm関数とtorch.norm関数があります。<br>\n",
    "それぞれ仕様に違いがあるので注意<br>\n",
    "\n",
    "torch.linalg.norm関数: ordという引数で計算するノルムの種類を指定<br>\n",
    "torch.norm関数: pという引数で計算するノルムの種類を指定<br>\n",
    "- 引数にpとdimがあるpは$L_p$ノルムのpの値を決める。dimは計算する次元を決定する。<br>\n",
    "- 計算する次元を決定する引数名はnumpyではaxisだったが、PyTorchではdimであることに注意する必要がある。"
   ]
  },
  {
   "cell_type": "code",
   "execution_count": 19,
   "metadata": {},
   "outputs": [
    {
     "name": "stdout",
     "output_type": "stream",
     "text": [
      "計算対象行列\n",
      " tensor([[1., 2., 3.],\n",
      "        [4., 5., 6.]])\n",
      "行列L_2ノルム(torch.norm) tensor(9.5394)\n",
      "行列L_2ノルム(torch.norm), dim = 1 tensor([3.7417, 8.7750])\n"
     ]
    }
   ],
   "source": [
    "print(\"計算対象行列\\n\", a)\n",
    "print(\"行列L_2ノルム(torch.norm)\", a.norm(p = 2))\n",
    "print(\"行列L_2ノルム(torch.norm), dim = 1\", a.norm(p = 2,dim = 1))"
   ]
  },
  {
   "cell_type": "markdown",
   "metadata": {},
   "source": [
    "Tensorの分割、連結<br>\n",
    "Tensorの分割はtorch.chunk, torch.splitなどの関数が用意されており、<br>\n",
    "Tensorの結合はtorch.stack, torch.catなどの関数が用意されている。<br>\n",
    "torch.chunkはchunks引数とdim引数を持ち、chunksで分割する数を指定し、dimで分割する次元を指定する。<br>"
   ]
  },
  {
   "cell_type": "code",
   "execution_count": 20,
   "metadata": {},
   "outputs": [
    {
     "name": "stdout",
     "output_type": "stream",
     "text": [
      "元のTensor: \n",
      " tensor([[0, 1, 2, 3, 4],\n",
      "        [5, 6, 7, 8, 9]])\n",
      "torch.chunk(Tensor, chunks = 2):  (tensor([[0, 1, 2, 3, 4]]), tensor([[5, 6, 7, 8, 9]]))\n",
      "torch.chunk(Tensor, chunks = 2, dim = 1): \n",
      "\n",
      "tensor([[0, 1, 2],\n",
      "        [5, 6, 7]])\n",
      "tensor([[3, 4],\n",
      "        [8, 9]])\n"
     ]
    }
   ],
   "source": [
    "a = torch.arange(10).reshape(2, 5)\n",
    "print(\"元のTensor: \\n\", a)\n",
    "print(\"torch.chunk(Tensor, chunks = 2): \", a.chunk(2))\n",
    "print(\"torch.chunk(Tensor, chunks = 2, dim = 1): \\n\")\n",
    "for t in a.chunk(chunks = 2, dim = 1):\n",
    "    print(t)"
   ]
  },
  {
   "cell_type": "markdown",
   "metadata": {},
   "source": [
    "torch.splitはsplit_size_or_sections引数とdim引数を持ち<br>\n",
    "dimはtorch.chunkと同様の働きをする。<br>\n",
    "split_size_or_sectionsにint型を渡すと、渡した数を要素に持つようにデータを分割する<br>\n",
    "split_size_or_sectionsにlist型を渡すとlistの要素に従ってデータを分割する。例えば[1,3,1]とすると、<br>\n",
    "要素数が[1,3,1]となるように分割する<br>"
   ]
  },
  {
   "cell_type": "code",
   "execution_count": 21,
   "metadata": {},
   "outputs": [
    {
     "name": "stdout",
     "output_type": "stream",
     "text": [
      "元のTensor: \n",
      " tensor([[0, 1, 2, 3, 4],\n",
      "        [5, 6, 7, 8, 9]])\n",
      "torch.split(Tensor, split_size_or_sections=2,dim = 1): \n",
      "\n",
      "tensor([[0, 1],\n",
      "        [5, 6]])\n",
      "tensor([[2, 3],\n",
      "        [7, 8]])\n",
      "tensor([[4],\n",
      "        [9]])\n",
      "torch.split(Tensor, split_size_or_sections=[1,3,1],dim = 1): \n",
      "\n",
      "tensor([[0],\n",
      "        [5]])\n",
      "tensor([[1, 2, 3],\n",
      "        [6, 7, 8]])\n",
      "tensor([[4],\n",
      "        [9]])\n"
     ]
    }
   ],
   "source": [
    "a = torch.arange(10).reshape(2, 5)\n",
    "print(\"元のTensor: \\n\", a)\n",
    "print(\"torch.split(Tensor, split_size_or_sections=2,dim = 1): \\n\")\n",
    "for t in torch.split(a,split_size_or_sections=2,dim = 1):\n",
    "    print(t)\n",
    "print(\"torch.split(Tensor, split_size_or_sections=[1,3,1],dim = 1): \\n\")\n",
    "for t in torch.split(a,split_size_or_sections=[1,3,1],dim = 1):\n",
    "    print(t)"
   ]
  },
  {
   "cell_type": "markdown",
   "metadata": {},
   "source": [
    "Tensorの連結に使う関数にはtorch.catとtorch.stackがあります。<br>\n",
    "torch.catは結合する2つのTensorの既存の次元数に従ってTensorを結合する関数であり,<br>\n",
    "torch.stackは結合する2つのTensorに次元を追加してTensorを結合する関数である。<br>\n",
    "torch.catはtorch.cat([結合するTensorのリスト], dim = (結合する次元を指定))という感じで使い、<br>\n",
    "torch.stackはtorch.stack([結合するTensorのリスト], dim = (増やして結合する次元を指定))という感じで使う。<br>"
   ]
  },
  {
   "cell_type": "code",
   "execution_count": 22,
   "metadata": {},
   "outputs": [
    {
     "name": "stdout",
     "output_type": "stream",
     "text": [
      "結合するTensorのサイズ torch.Size([2, 3]) torch.Size([2, 4])\n",
      "結合するTensor\n",
      " tensor([[0, 1, 2],\n",
      "        [3, 4, 5]]) \n",
      " tensor([[0, 1, 2, 3],\n",
      "        [4, 5, 6, 7]])\n",
      "torch.cat([Tensor1, Tensor2], dim = 1): \n",
      " tensor([[0, 1, 2, 0, 1, 2, 3],\n",
      "        [3, 4, 5, 4, 5, 6, 7]])\n"
     ]
    }
   ],
   "source": [
    "a = torch.arange(6).reshape(2, 3)\n",
    "b = torch.arange(8).reshape(2, 4)\n",
    "print(\"結合するTensorのサイズ\", a.shape, b.shape)\n",
    "print(\"結合するTensor\\n\", a,\"\\n\", b)\n",
    "print(\"torch.cat([Tensor1, Tensor2], dim = 1): \\n\", torch.cat([a,b], dim = 1))"
   ]
  },
  {
   "cell_type": "code",
   "execution_count": 23,
   "metadata": {},
   "outputs": [
    {
     "name": "stdout",
     "output_type": "stream",
     "text": [
      "結合するTensorのサイズ torch.Size([2, 3]) torch.Size([2, 3])\n",
      "結合するTensor\n",
      " tensor([[0, 1, 2],\n",
      "        [3, 4, 5]]) \n",
      " tensor([[0, 1, 2],\n",
      "        [3, 4, 5]])\n",
      "torch.stack([Tensor1, Tensor2], dim = 2): \n",
      " tensor([[[0, 0],\n",
      "         [1, 1],\n",
      "         [2, 2]],\n",
      "\n",
      "        [[3, 3],\n",
      "         [4, 4],\n",
      "         [5, 5]]]) torch.Size([2, 3, 2])\n"
     ]
    }
   ],
   "source": [
    "a = torch.arange(6).reshape(2, 3)\n",
    "b = torch.arange(6).reshape(2, 3)\n",
    "print(\"結合するTensorのサイズ\", a.shape, b.shape)\n",
    "print(\"結合するTensor\\n\", a,\"\\n\", b)\n",
    "print(\"torch.stack([Tensor1, Tensor2], dim = 2): \\n\", torch.stack([a,b], dim = 2),torch.stack([a,b], dim = 2).shape)"
   ]
  },
  {
   "cell_type": "markdown",
   "metadata": {},
   "source": [
    "einopsというライブラリを用いるとアインシュタインの縮約記法を用いて配列を次元毎に操作することが簡単となります。<br>\n",
    "einsumとeinopsを使用してコードを簡潔に書いてしまうのがどうやら流行っているようなので覚えて損はないはずです。[einsum-attention](https://theaisummer.com/einsum-attention/)"
   ]
  },
  {
   "cell_type": "markdown",
   "metadata": {},
   "source": [
    "einopsはPytorchとの互換性があるため、普通に用いても勾配の計算方法を示してくれます。<br>Pytorchの勾配に関してはPytorchの勾配について, 最適化の方法で解説します。"
   ]
  },
  {
   "cell_type": "markdown",
   "metadata": {},
   "source": [
    "einops.rearangeはTensorの分割を行います。()で囲んだところは一つの次元とみなします。例えば下の実行例では<br>\n",
    "(i j (h k))という3つの次元のうち、3つめをh×kとみなし、h = 5, k = 3として分割をしています。<br>"
   ]
  },
  {
   "cell_type": "code",
   "execution_count": 24,
   "metadata": {},
   "outputs": [
    {
     "name": "stdout",
     "output_type": "stream",
     "text": [
      "元のTensor:\n",
      " tensor([[[ 0.3190,  0.3849,  0.0924, -0.0886,  0.3225,  0.1488,  0.6149,\n",
      "          -0.6632, -0.2944,  0.3243, -0.3702, -0.1325, -0.8012, -0.5966,\n",
      "          -0.4884],\n",
      "         [-0.9475,  0.0532, -0.7294,  0.5840,  0.9410,  0.5510, -0.4713,\n",
      "          -0.1896,  0.2714, -0.7667,  0.7492, -0.8148,  0.2695, -0.7870,\n",
      "          -0.5291],\n",
      "         [ 0.4864, -0.9792,  0.2007, -0.4630,  0.7768, -0.6595,  0.2567,\n",
      "           0.5525, -0.0207, -0.8245,  0.6366,  0.2192,  0.3277, -0.8060,\n",
      "          -0.9147]],\n",
      "\n",
      "        [[-0.5084,  0.3811,  0.6384, -0.5537, -0.1752,  0.8650, -0.2048,\n",
      "          -0.9870, -0.0086,  0.3217, -0.0982, -0.2040, -0.2163, -0.7580,\n",
      "           0.3338],\n",
      "         [-0.0377, -0.8841, -0.9739,  0.1904,  0.1510, -0.6864, -0.0790,\n",
      "          -0.5698,  0.3305,  0.1943,  0.3973,  0.5618, -0.9110, -0.8872,\n",
      "          -0.7736],\n",
      "         [ 0.0921,  0.2255,  0.4380,  0.8268, -0.6630,  0.0804,  0.4171,\n",
      "          -0.2415, -0.9891, -0.0653,  0.7564, -0.2714, -0.8692,  0.0771,\n",
      "           0.0442]]], grad_fn=<ToCopyBackward0>) torch.Size([2, 3, 15])\n",
      "rearrange(i j (h k)->h i j k):\n",
      " tensor([[[[ 0.3190,  0.3849,  0.0924],\n",
      "          [-0.9475,  0.0532, -0.7294],\n",
      "          [ 0.4864, -0.9792,  0.2007]],\n",
      "\n",
      "         [[-0.5084,  0.3811,  0.6384],\n",
      "          [-0.0377, -0.8841, -0.9739],\n",
      "          [ 0.0921,  0.2255,  0.4380]]],\n",
      "\n",
      "\n",
      "        [[[-0.0886,  0.3225,  0.1488],\n",
      "          [ 0.5840,  0.9410,  0.5510],\n",
      "          [-0.4630,  0.7768, -0.6595]],\n",
      "\n",
      "         [[-0.5537, -0.1752,  0.8650],\n",
      "          [ 0.1904,  0.1510, -0.6864],\n",
      "          [ 0.8268, -0.6630,  0.0804]]],\n",
      "\n",
      "\n",
      "        [[[ 0.6149, -0.6632, -0.2944],\n",
      "          [-0.4713, -0.1896,  0.2714],\n",
      "          [ 0.2567,  0.5525, -0.0207]],\n",
      "\n",
      "         [[-0.2048, -0.9870, -0.0086],\n",
      "          [-0.0790, -0.5698,  0.3305],\n",
      "          [ 0.4171, -0.2415, -0.9891]]],\n",
      "\n",
      "\n",
      "        [[[ 0.3243, -0.3702, -0.1325],\n",
      "          [-0.7667,  0.7492, -0.8148],\n",
      "          [-0.8245,  0.6366,  0.2192]],\n",
      "\n",
      "         [[ 0.3217, -0.0982, -0.2040],\n",
      "          [ 0.1943,  0.3973,  0.5618],\n",
      "          [-0.0653,  0.7564, -0.2714]]],\n",
      "\n",
      "\n",
      "        [[[-0.8012, -0.5966, -0.4884],\n",
      "          [ 0.2695, -0.7870, -0.5291],\n",
      "          [ 0.3277, -0.8060, -0.9147]],\n",
      "\n",
      "         [[-0.2163, -0.7580,  0.3338],\n",
      "          [-0.9110, -0.8872, -0.7736],\n",
      "          [-0.8692,  0.0771,  0.0442]]]], grad_fn=<ReshapeAliasBackward0>) torch.Size([5, 2, 3, 3])\n"
     ]
    }
   ],
   "source": [
    "import torch\n",
    "import numpy as np\n",
    "from einops import rearrange, reduce\n",
    "x = torch.tensor(np.random.uniform(low = -1, high = 1, size = (2,3,15)), requires_grad=True).float()\n",
    "print(\"元のTensor:\\n\",x,x.shape)\n",
    "print(\"rearrange(i j (h k)->h i j k):\\n\",rearrange(x,\"i j (h k) -> h i j k\",h=5,k=3),rearrange(x,\"i j (h k) -> h i j k\",h=5,k=3).shape)"
   ]
  },
  {
   "cell_type": "markdown",
   "metadata": {},
   "source": [
    "einops.reduceは次元を減らします。第一引数に次元を減らす対象となるテンソル, 第二引数に減らす前の次元と減らした後の次元を指定、第三引数に次元の減らし方を指定します。<br>"
   ]
  },
  {
   "cell_type": "code",
   "execution_count": 25,
   "metadata": {},
   "outputs": [
    {
     "name": "stdout",
     "output_type": "stream",
     "text": [
      "元のTensor:\n",
      " tensor([[[ 0.3190,  0.3849,  0.0924, -0.0886,  0.3225,  0.1488,  0.6149,\n",
      "          -0.6632, -0.2944,  0.3243, -0.3702, -0.1325, -0.8012, -0.5966,\n",
      "          -0.4884],\n",
      "         [-0.9475,  0.0532, -0.7294,  0.5840,  0.9410,  0.5510, -0.4713,\n",
      "          -0.1896,  0.2714, -0.7667,  0.7492, -0.8148,  0.2695, -0.7870,\n",
      "          -0.5291],\n",
      "         [ 0.4864, -0.9792,  0.2007, -0.4630,  0.7768, -0.6595,  0.2567,\n",
      "           0.5525, -0.0207, -0.8245,  0.6366,  0.2192,  0.3277, -0.8060,\n",
      "          -0.9147]],\n",
      "\n",
      "        [[-0.5084,  0.3811,  0.6384, -0.5537, -0.1752,  0.8650, -0.2048,\n",
      "          -0.9870, -0.0086,  0.3217, -0.0982, -0.2040, -0.2163, -0.7580,\n",
      "           0.3338],\n",
      "         [-0.0377, -0.8841, -0.9739,  0.1904,  0.1510, -0.6864, -0.0790,\n",
      "          -0.5698,  0.3305,  0.1943,  0.3973,  0.5618, -0.9110, -0.8872,\n",
      "          -0.7736],\n",
      "         [ 0.0921,  0.2255,  0.4380,  0.8268, -0.6630,  0.0804,  0.4171,\n",
      "          -0.2415, -0.9891, -0.0653,  0.7564, -0.2714, -0.8692,  0.0771,\n",
      "           0.0442]]], grad_fn=<ToCopyBackward0>) torch.Size([2, 3, 15])\n",
      "reduce(i j k->i j) method max:\n",
      " tensor([[0.6149, 0.9410, 0.7768],\n",
      "        [0.8650, 0.5618, 0.8268]], grad_fn=<ReshapeAliasBackward0>) torch.Size([2, 3])\n"
     ]
    }
   ],
   "source": [
    "print(\"元のTensor:\\n\",x,x.shape)\n",
    "print(\"reduce(i j k->i j) method max:\\n\",reduce(x, \"i j k->i j\",\"max\"),reduce(x, \"i j k->i j\",\"max\").shape)"
   ]
  },
  {
   "cell_type": "markdown",
   "metadata": {},
   "source": [
    "条件演算子"
   ]
  },
  {
   "cell_type": "markdown",
   "metadata": {},
   "source": [
    "torch.where条件を満たす要素に処理を行う関数です。\n",
    "torch.where(条件式, Trueの場合, Falseの場合)のように書きます。"
   ]
  },
  {
   "cell_type": "code",
   "execution_count": 26,
   "metadata": {},
   "outputs": [
    {
     "name": "stdout",
     "output_type": "stream",
     "text": [
      "元のTensor: \n",
      " tensor([0.3092, 0.6917, 0.9336, 0.4014, 0.4436, 0.4361, 0.6281, 0.3551, 0.6891,\n",
      "        0.1616])\n",
      "Tensor1 > 0.5なら1, Tensor1 <= 0.5なら0としてtorch.where関数を適用させたもの: \n",
      " tensor([0., 1., 1., 0., 0., 0., 1., 0., 1., 0.])\n"
     ]
    }
   ],
   "source": [
    "a = torch.randn(10)\n",
    "a = 1/(1+torch.exp(a))\n",
    "print(\"元のTensor: \\n\", a)\n",
    "print(\"Tensor1 > 0.5なら1, Tensor1 <= 0.5なら0としてtorch.where関数を適用させたもの: \\n\", torch.where(a > 0.5, torch.ones_like(a), torch.zeros_like(a)))"
   ]
  },
  {
   "cell_type": "markdown",
   "metadata": {},
   "source": [
    "torch.clamp<br>\n",
    "torch.clampは値を一定の範囲でクリッピングします。logやゼロ割に対処するために使用します。<br>\n",
    "torch.clamp(処理前のTensor, min, max)のように指定します。"
   ]
  },
  {
   "cell_type": "code",
   "execution_count": 27,
   "metadata": {},
   "outputs": [
    {
     "name": "stdout",
     "output_type": "stream",
     "text": [
      "元のTensor: \n",
      " tensor([-0.2070,  0.4184, -0.6245, -0.3027, -1.8518,  0.1531, -0.7373,  0.7766,\n",
      "         0.1881,  0.7315])\n",
      "torch.clampを適用しない場合: \n",
      " tensor([    nan, -0.8713,     nan,     nan,     nan, -1.8768,     nan, -0.2528,\n",
      "        -1.6710, -0.3127])\n",
      "torch.clampを適用する場合: \n",
      " tensor([-73.6827,  -0.8713, -73.6827, -73.6827, -73.6827,  -1.8768, -73.6827,\n",
      "         -0.2528,  -1.6710,  -0.3127])\n"
     ]
    }
   ],
   "source": [
    "a = torch.randn(10)\n",
    "a_clamp = torch.clamp(a, 1e-32, 1e+32) #値が\n",
    "print(\"元のTensor: \\n\", a)\n",
    "print(\"torch.clampを適用しない場合: \\n\", torch.log(a))\n",
    "print(\"torch.clampを適用する場合: \\n\", torch.log(a_clamp))"
   ]
  },
  {
   "cell_type": "markdown",
   "metadata": {},
   "source": [
    "torch.ge, torch.gt, torch.le, torch.lt, torch.eq<br>\n",
    "torch.geはgreater than or equal toを意味し,torch.ge(tensor, num)となった場合、tensor>=numとなった要素をTrueとして返します。<br>\n",
    "torch.gt, torch.le, torch.lt, torch.eqも関数の呼び出し方は一緒です。<br>\n",
    "gtはgreater than, leはless than or equal, ltはless than, eqはequalを意味します。"
   ]
  },
  {
   "cell_type": "code",
   "execution_count": 28,
   "metadata": {},
   "outputs": [
    {
     "name": "stdout",
     "output_type": "stream",
     "text": [
      "元のTensor: \n",
      " tensor([0, 1, 2, 3, 4, 5, 6, 7, 8, 9])\n",
      "Tensor >= 4 tensor([False, False, False, False,  True,  True,  True,  True,  True,  True])\n",
      "Tensor > 4 tensor([False, False, False, False, False,  True,  True,  True,  True,  True])\n",
      "Tensor <= 4 tensor([ True,  True,  True,  True,  True, False, False, False, False, False])\n",
      "Tensor < 4 tensor([ True,  True,  True,  True, False, False, False, False, False, False])\n",
      "Tensor == 4 tensor([False, False, False, False,  True, False, False, False, False, False])\n"
     ]
    }
   ],
   "source": [
    "a = torch.arange(10)\n",
    "print(\"元のTensor: \\n\", a)\n",
    "print(\"Tensor >= 4\", torch.ge(a, 4))\n",
    "print(\"Tensor > 4\", torch.gt(a, 4))\n",
    "print(\"Tensor <= 4\", torch.le(a, 4))\n",
    "print(\"Tensor < 4\", torch.lt(a, 4))\n",
    "print(\"Tensor == 4\", torch.eq(a, 4))"
   ]
  },
  {
   "cell_type": "markdown",
   "metadata": {},
   "source": [
    "numpyと同じく、算術演算子を使うこともできます。実用上はこちらの方が使う場面が多いかもしれません"
   ]
  },
  {
   "cell_type": "code",
   "execution_count": 29,
   "metadata": {},
   "outputs": [
    {
     "name": "stdout",
     "output_type": "stream",
     "text": [
      "元のTensor: \n",
      " tensor([0, 1, 2, 3, 4, 5, 6, 7, 8, 9])\n",
      "Tensor >= 4 tensor([False, False, False, False,  True,  True,  True,  True,  True,  True])\n",
      "Tensor > 4 tensor([False, False, False, False, False,  True,  True,  True,  True,  True])\n",
      "Tensor <= 4 tensor([ True,  True,  True,  True,  True, False, False, False, False, False])\n",
      "Tensor < 4 tensor([ True,  True,  True,  True, False, False, False, False, False, False])\n",
      "Tensor == 4 tensor([False, False, False, False,  True, False, False, False, False, False])\n"
     ]
    }
   ],
   "source": [
    "a = torch.arange(10)\n",
    "print(\"元のTensor: \\n\", a)\n",
    "print(\"Tensor >= 4\", a>=4)\n",
    "print(\"Tensor > 4\", a>4)\n",
    "print(\"Tensor <= 4\", a<=4)\n",
    "print(\"Tensor < 4\", a<4)\n",
    "print(\"Tensor == 4\", a==4)"
   ]
  },
  {
   "cell_type": "markdown",
   "metadata": {},
   "source": [
    "他にPytorchで知っておくメソッドは, <br>リストやnumpyのndarrayに変換するtolist, numpyメソッド, 値の取得を行うitemメソッド, 計算するデバイスの指定などがあります。<br>\n",
    "紹介する時になったら紹介します。"
   ]
  },
  {
   "cell_type": "markdown",
   "metadata": {},
   "source": [
    "### Dataloader定義編"
   ]
  },
  {
   "cell_type": "markdown",
   "metadata": {},
   "source": [
    "有名なデータセットは前もってPytorch上で扱いやすいように提供されています。<br>しかし実際には自分でデータを集めて制作した自作データセットを使いたいという場面もあります。<br>\n",
    "そこでこの章では自作Dataloaderセットの定義の方法を説明します。"
   ]
  },
  {
   "cell_type": "markdown",
   "metadata": {},
   "source": [
    "データがTensorオブジェクト, Pythonリスト, またはNumpy配列として既に存在している場合には<br>torch.utils.data.DataLoaderクラスを用いればデータセットローダーを簡単に制作することができる。<br>\n",
    "DataLoaderクラスの定義の際にBatch_sizeを指定すると, 指定したサイズのバッチが反復の際に出力される。<br>\n",
    "また、シャッフルが必要なときはshuffle = Trueと引数を変更することでデータがシャッフルされた状態で取り出される。"
   ]
  },
  {
   "cell_type": "code",
   "execution_count": 30,
   "metadata": {},
   "outputs": [
    {
     "name": "stdout",
     "output_type": "stream",
     "text": [
      "tensor([[1., 1., 1.],\n",
      "        [1., 1., 1.]])\n",
      "tensor([[1., 1., 1.],\n",
      "        [1., 1., 1.]])\n",
      "tensor([[1., 1., 1.],\n",
      "        [1., 1., 1.]])\n",
      "tensor([[1., 1., 1.],\n",
      "        [1., 1., 1.]])\n",
      "tensor([[1., 1., 1.],\n",
      "        [1., 1., 1.]])\n"
     ]
    }
   ],
   "source": [
    "from torch.utils.data import DataLoader\n",
    "t = torch.ones(size = (10,3), dtype = torch.float32)\n",
    "data_loader = DataLoader(t, batch_size = 2)\n",
    "for t_item in data_loader:\n",
    "    print(t_item)"
   ]
  },
  {
   "cell_type": "markdown",
   "metadata": {},
   "source": [
    "次に2つのテンソルを1つのデータセットに結合する。<br>\n",
    "この時に自作データセットの定義が必要となる。<br>\n",
    "Pythonのクラスに関しての説明は詳しくは行わないので, Pythonの基本的な参考書で補填して欲しい。<br>\n",
    "Datasetクラスの継承を行ったあと, init, getitem, lenメソッドの挙動の定義を行うことで簡単にDatasetクラスを制作することができる。<br>\n",
    "getitemメソッドが見慣れないと思うので少し簡単な解説を行う。<br>\n",
    "getitemメソッドはPythonの特殊メソッドであり鉤括弧[]でオブジェクトにアクセスした時の挙動を定義するものである。<br>\n",
    "例えばリストL = [0,1,2,3,4,5]の4番目の要素にアクセスする時、L[3] = 3となるのはこのgetitemメソッドによるものである。<br>\n",
    "今回はfor文を回した時に, データとラベルを出力できるように制作する"
   ]
  },
  {
   "cell_type": "code",
   "execution_count": 31,
   "metadata": {},
   "outputs": [
    {
     "name": "stdout",
     "output_type": "stream",
     "text": [
      "Data: \n",
      " tensor([[0.7725, 0.1325, 0.1150, 0.8772, 0.6803],\n",
      "        [0.6020, 0.6206, 0.1650, 0.4728, 0.9869],\n",
      "        [0.8132, 0.7102, 0.5097, 0.7580, 0.7245],\n",
      "        [0.1720, 0.1463, 0.7559, 0.3371, 0.5650]]) \n",
      "label: \n",
      " tensor([0., 1., 2., 3.])\n"
     ]
    }
   ],
   "source": [
    "#簡単なデータを制作する\n",
    "data = torch.rand(size = (4,5), dtype = torch.float32)\n",
    "y = torch.arange(4, dtype = torch.float32)\n",
    "print(\"Data: \\n\", data, \"\\nlabel: \\n\", y)"
   ]
  },
  {
   "cell_type": "code",
   "execution_count": 32,
   "metadata": {},
   "outputs": [
    {
     "name": "stdout",
     "output_type": "stream",
     "text": [
      "tensor([0.7725, 0.1325, 0.1150, 0.8772, 0.6803]) tensor(0.)\n",
      "tensor([0.6020, 0.6206, 0.1650, 0.4728, 0.9869]) tensor(1.)\n",
      "tensor([0.8132, 0.7102, 0.5097, 0.7580, 0.7245]) tensor(2.)\n",
      "tensor([0.1720, 0.1463, 0.7559, 0.3371, 0.5650]) tensor(3.)\n",
      "Length:  4\n"
     ]
    }
   ],
   "source": [
    "from torch.utils.data import Dataset\n",
    "class normal_dataset(Dataset):\n",
    "    def __init__(self, data, y):\n",
    "        self.data = data\n",
    "        self.y = y\n",
    "    def __len__(self):\n",
    "        return len(self.data)\n",
    "    def __getitem__(self, idx):\n",
    "        return self.data[idx], self.y[idx]\n",
    "d_set = normal_dataset(data, y)\n",
    "for batch_x, batch_y in d_set:\n",
    "    print(batch_x, batch_y)\n",
    "print(\"Length: \", len(d_set))\n",
    "#実際にDataLoaderと同じように使えることがわかった。"
   ]
  },
  {
   "cell_type": "markdown",
   "metadata": {},
   "source": [
    "データセットがテンソル形式のラベルデータセットならば, 単純にtorch.utils.data.TensorDatasetを用いることでも実装ができる。<br>\n",
    "TensorDatasetで制作したオブジェクトをDataLoaderに渡すことでbatch_sizeを指定してデータを取り出すこともできる。<br>"
   ]
  },
  {
   "cell_type": "code",
   "execution_count": 33,
   "metadata": {},
   "outputs": [
    {
     "name": "stdout",
     "output_type": "stream",
     "text": [
      "tensor([[0.7725, 0.1325, 0.1150, 0.8772, 0.6803],\n",
      "        [0.6020, 0.6206, 0.1650, 0.4728, 0.9869]]) tensor([0., 1.])\n",
      "tensor([[0.8132, 0.7102, 0.5097, 0.7580, 0.7245],\n",
      "        [0.1720, 0.1463, 0.7559, 0.3371, 0.5650]]) tensor([2., 3.])\n",
      "Length:  2\n"
     ]
    }
   ],
   "source": [
    "from torch.utils.data import TensorDataset\n",
    "d_set = TensorDataset(data, y)\n",
    "d_set = DataLoader(d_set, batch_size = 2)\n",
    "for batch_x, batch_y in d_set:\n",
    "    print(batch_x, batch_y)\n",
    "print(\"Length: \", len(d_set))\n",
    "#実際にDataLoaderと同じように使えることがわかった。"
   ]
  },
  {
   "cell_type": "markdown",
   "metadata": {},
   "source": [
    "データのサブセット作成<br>\n",
    "torch.utils.data.Subset(data, idx)でデータセットのサブセットの制作が行える。"
   ]
  },
  {
   "cell_type": "code",
   "execution_count": 34,
   "metadata": {},
   "outputs": [
    {
     "name": "stdout",
     "output_type": "stream",
     "text": [
      "tensor([[0.7725, 0.1325, 0.1150, 0.8772, 0.6803]]) tensor([0.])\n",
      "Length:  1\n"
     ]
    }
   ],
   "source": [
    "from torch.utils.data import Subset\n",
    "d_set = TensorDataset(data, y)\n",
    "d_set_sub = Subset(d_set, torch.arange(1))\n",
    "d_set_sub = DataLoader(d_set_sub)\n",
    "for batch_x, batch_y in d_set_sub:\n",
    "    print(batch_x, batch_y)\n",
    "print(\"Length: \", len(d_set_sub))"
   ]
  },
  {
   "cell_type": "markdown",
   "metadata": {},
   "source": [
    "ここまでの説明はDataloaderの一部にすぎませんが, <br>Datasetクラスを定義し, init, len, getitemメソッドの挙動を定義することを覚えておけば, 応用が効くようになると思います。"
   ]
  },
  {
   "cell_type": "markdown",
   "metadata": {},
   "source": [
    "### モデル定義編"
   ]
  },
  {
   "cell_type": "markdown",
   "metadata": {},
   "source": [
    "この章では主にモデルを構築する方法を学びます。<br>Pytorchの高レベルAPIを用いれば簡単なモデルの構築は3秒で終わりますが, <br>\n",
    "今回は全結合層, 2次元畳み込み層の低レベルAPIを用いた実装を通してより深くPytorchを学んだ上でモデルの定義を行おうと思います。<br>\n",
    "<br>\n",
    "低レベルAPIで高レベルAPIにある機能を実装することは、Pytorch内部の仕様の理解を助け、よりカスタムされた機能を追加することに役立つため、<br>\n",
    "必ず自分でドキュメントを読み、一度は手を動かして行ってください。<br>\n",
    "写経でも全く問題はありません、しかし組んでいる最中でコードに疑問を持ったところは必ず理解して次に進みましょう。<br>\n",
    "モデル定義編で扱わなかったレイヤーの低レベルAPI実装はAppendixに記しておきます。<br>"
   ]
  },
  {
   "cell_type": "markdown",
   "metadata": {},
   "source": [
    "#### ReLU\n",
    "ReLUは<br>$$\\text{ReLU}(x) = \\text{max}(0, x)$$<br>で定義される関数であり、$x=0$付近で非線形の特性を示す関数です。活性化関数としておそらく最も頻繁に使われています。<br>\n",
    "Pytorchの練習としてtorch.where関数で組んでみましょう。\n",
    "また、今後は関数を組む際に事故を防ぐためにPythonの型を明示的にコードを書いていきます。"
   ]
  },
  {
   "cell_type": "code",
   "execution_count": 35,
   "metadata": {},
   "outputs": [
    {
     "name": "stdout",
     "output_type": "stream",
     "text": [
      "元のTensor:  tensor([-0.4885, -2.1808, -1.4371,  1.5590,  1.3819, -0.9579,  0.3448,  0.1898])\n",
      "ReLU(Tensor):  tensor([0.0000, 0.0000, 0.0000, 1.5590, 1.3819, 0.0000, 0.3448, 0.1898])\n"
     ]
    }
   ],
   "source": [
    "def relu(x: torch.Tensor) -> torch.Tensor:\n",
    "    return torch.where(x > 0, x, torch.zeros_like(x))\n",
    "a = torch.randn(8)\n",
    "print(\"元のTensor: \", a)\n",
    "print(\"ReLU(Tensor): \", relu(a))"
   ]
  },
  {
   "cell_type": "markdown",
   "metadata": {},
   "source": [
    "全結合層のスクラッチ実装<br>\n",
    "全結合層\n",
    "$$\n",
    "Z = XW^{T}+b\n",
    "$$\n",
    "の実装を行います。ここで、$W \\in{M_{out\\_dim×in\\_dim}}, X \\in{M_{num\\_data×in\\_dim}}$であることに注意してください。<br>\n",
    "初めはこの定義に対して疑問を思うかもしれませんが、一度誤差逆伝播法の証明をすればわかるようになるかと思います。<br>\n",
    "<br>実際に使う時はtorch.nn.Linearクラスを用いれば問題はありませんが, 今回はPytorchの理解のためにスクラッチ実装を行います。\n",
    "手順<br>\n",
    "- nn.Moduleの継承\n",
    "- init引数をin_dim, out_dimとする。\n",
    "- nn.Parameterでパラメーター行列, バイアスベクトルを制作\n",
    "- クラス内でforward関数の挙動を定義, $Z = XW^{T}+b$を出力するようにする。これにはtorch.matmulとtorch.nn.functional.linearを使う方法の2通りがある\n",
    "\n",
    "torch.nn.functional.linearはtorch.nn.functional.linear(A,B,b)として実行すると$AB^{T}+b$を出力する関数である。torch.matmulとの違いに気をつけよう。<br>\n",
    "torch.matmulを使った方が直感的にはわかりやすい。\n",
    "<br>\n",
    "<br>\n",
    "次に, nn.Parameterを使う理由としては、公式ドキュメントによると, nn.Parameterで定義されたパラメーターは<br>nn.Moduleのparameters()イテレーターとして追加されるからである。\n",
    "<br>\n",
    "<br>\n",
    "nn.Moduleを継承したクラスでforwardを定義すると、丸括弧で囲んだときの挙動を指定する。例えば、Linear(x)などである。<br>\n",
    "Pythonではこれは__call__メソッドの定義にあたるものだが、__call__メソッドとして forward が機能するようにモジュール側で実装されています。<br>"
   ]
  },
  {
   "cell_type": "code",
   "execution_count": 36,
   "metadata": {},
   "outputs": [],
   "source": [
    "import torch.nn.functional as F\n",
    "from torch import nn\n",
    "rng = np.random.RandomState(1)\n",
    "class linear(nn.Module):\n",
    "    def __init__(self, in_dim: int or float, out_dim: int or float) -> None:\n",
    "        super().__init__()\n",
    "        #He uniformで初期化\n",
    "        weight = torch.tensor(rng.uniform(low=-np.sqrt(6/in_dim),high=np.sqrt(6/in_dim),size=(out_dim, in_dim)).astype('float32'))\n",
    "        #Biasは全て0で初期化\n",
    "        bias = torch.tensor(np.zeros([out_dim]).astype('float32'))\n",
    "        self.weight = nn.Parameter(weight)\n",
    "        self.bias = nn.Parameter(bias)\n",
    "    def forward(self, x: torch.Tensor) -> torch.Tensor:\n",
    "        #以下の関数はreturn torch.matmul(x, self.weight.T) + self.biasを実行していることと同じである。\n",
    "        return F.linear(x, self.weight, self.bias)"
   ]
  },
  {
   "cell_type": "markdown",
   "metadata": {},
   "source": [
    "実際に使ってみよう。"
   ]
  },
  {
   "cell_type": "code",
   "execution_count": 37,
   "metadata": {},
   "outputs": [],
   "source": [
    "x = torch.randn(size = (3,3))\n",
    "L = linear(3,3)"
   ]
  },
  {
   "cell_type": "markdown",
   "metadata": {},
   "source": [
    "次に,forwardが機能していることと, Linearのパラメーターがparametersメソッドを使った時にイテレーターになっているかを確認する。"
   ]
  },
  {
   "cell_type": "code",
   "execution_count": 38,
   "metadata": {},
   "outputs": [
    {
     "name": "stdout",
     "output_type": "stream",
     "text": [
      "forward: \n",
      " tensor([[ 0.9241,  0.6332,  0.5992],\n",
      "        [-0.1345,  0.8631,  0.4104],\n",
      "        [ 0.1910, -0.2729, -0.1300]], grad_fn=<AddmmBackward0>)\n",
      "Linear parameters: \n",
      "Parameter containing:\n",
      "tensor([[-0.2347,  0.6232, -1.4139],\n",
      "        [-0.5591, -0.9991, -1.1530],\n",
      "        [-0.8874, -0.4368, -0.2920]], requires_grad=True)\n",
      "Parameter containing:\n",
      "tensor([0., 0., 0.], requires_grad=True)\n"
     ]
    }
   ],
   "source": [
    "print(\"forward: \\n\", L(x))\n",
    "print(\"Linear parameters: \")\n",
    "for p in L.parameters():\n",
    "    print(p)"
   ]
  },
  {
   "cell_type": "markdown",
   "metadata": {},
   "source": [
    "次に2次元畳み込み層の実装を示します。<br>\n",
    "畳み込みをするモチベーションに関しては市販の技術書やウェブサイトを参考にしてほしい<br>\n",
    "<br>\n",
    "公式ドキュメントにのっとり、__init__にはin_channels, out_channels, kernel_size, stride, padding,dilation,groupを引数として実装します。<br>\n",
    "バッチサイズを$N$, 入力チャンネルを$C_{in}$, 出力チャンネルを$C_{out}$, 入力2次元画像の高さを幅を$H, W$とすると<br>\n",
    "conv2dは$(N, C_{in}, H, W) \\to (N, C_{out}, H_{out}, W_{out})$とする層である。<br>\n",
    "$H_{out}, W_{out}$の大きさはpaddingなどで決まる。<br>\n",
    "式は以下の通りである。<br>\n",
    "$$\n",
    "H_{out} = \\lfloor \\dfrac{H_{in}+2\\rm{padding}[0]-\\rm{dilation}[0](\\rm{kernel\\_size}[0]-1)-1}{\\rm{stride}[0]}+1 \\rfloor\n",
    "$$\n",
    "$$\n",
    "W_{out} = \\lfloor \\dfrac{W_{in}+2\\rm{padding}[1]-\\rm{dilation}[1](\\rm{kernel\\_size}[1]-1)-1}{\\rm{stride}[1]}+1 \\rfloor\n",
    "$$\n",
    "モデルを構築するときは畳み込み層を通した後の形に注意しながら実装する必要がある。<br>\n",
    "二次元畳み込みは全結合層のようにtorch.matmulなどの単純な関数による実装はできないため、torch.nn.functional.conv2d関数を用いる<br>\n",
    "もし本当にゼロからの実装に興味がある人は, 効率よく二次元畳み込み演算を計算する方法として<br>Winograd's Minimal Filteringアルゴリズムなどが知られているため、調べてもらいたい。<br>\n",
    "単純に二次元畳み込みの定義式\n",
    "$$\n",
    "Y[i,j] = \\sum\\limits_{k_1=-\\infty}^{+\\infty}\\sum\\limits_{k_2=-\\infty}^{+\\infty}X[i-k_1, j-k_2]W[k_1,k_2]\n",
    "$$\n",
    "を実装するだけでは非常に効率が悪いため効率が良いアルゴリズムを用いてPytorchでは実装を行っている。\n",
    "\n",
    "<br>"
   ]
  },
  {
   "cell_type": "code",
   "execution_count": 39,
   "metadata": {},
   "outputs": [],
   "source": [
    "import torch.nn.functional as F\n",
    "from torch import nn\n",
    "rng = np.random.RandomState(1)\n",
    "class conv2d(nn.Module):\n",
    "    def __init__(self, in_channels, out_channels, kernel_size, stride = (1,1), padding = (0,0), dilation = (1,1), group = 1):\n",
    "        super().__init__()\n",
    "        filter_shape = (out_channels, in_channels // group, kernel_size[0], kernel_size[1])\n",
    "        k = in_channels * kernel_size[0] * kernel_size[1]\n",
    "        weight = torch.tensor(rng.uniform(low=-np.sqrt(k),high=np.sqrt(k),size=filter_shape).astype('float32'))\n",
    "        bias = torch.tensor(rng.uniform(low = -np.sqrt(k), high = np.sqrt(k), size = [out_channels]).astype('float32'))\n",
    "        self.weight = nn.Parameter(weight)\n",
    "        self.bias = nn.Parameter(bias)\n",
    "        self.stride = stride  \n",
    "        self.padding = padding\n",
    "        self.dilation = dilation\n",
    "        self.group = group\n",
    "    def forward(self, x):\n",
    "        return F.conv2d(x, weight = self.weight, bias = self.bias, stride = self.stride, padding = self.padding, dilation = self.dilation, groups = self.group)"
   ]
  },
  {
   "cell_type": "code",
   "execution_count": 40,
   "metadata": {},
   "outputs": [],
   "source": [
    "x = torch.tensor(rng.uniform(size = (3,3,3,3)).astype(\"float32\"))\n",
    "conv = conv2d(3,32,(3,3),padding=(1,1))"
   ]
  },
  {
   "cell_type": "code",
   "execution_count": 41,
   "metadata": {},
   "outputs": [
    {
     "name": "stdout",
     "output_type": "stream",
     "text": [
      "conv(x), conv(x)のサイズ: \n",
      " tensor([[[[-4.2212e+00,  1.2553e+01,  1.8412e+00],\n",
      "          [ 1.9680e+00,  9.3378e+00,  1.0218e+01],\n",
      "          [ 3.4083e+00,  9.3369e+00,  3.0335e+00]],\n",
      "\n",
      "         [[-4.0024e+00, -1.6263e+00, -1.5996e+01],\n",
      "          [-1.9691e+00, -6.2055e+00,  1.4242e+00],\n",
      "          [-5.3402e-01, -6.7465e+00, -1.1870e+00]],\n",
      "\n",
      "         [[-5.1369e+00,  5.8946e+00, -4.3092e+00],\n",
      "          [-7.9002e+00, -7.5852e+00, -9.3150e+00],\n",
      "          [-3.0901e+00, -1.0952e+01, -9.2359e+00]],\n",
      "\n",
      "         [[-5.2849e+00, -1.3041e+01, -1.1580e+01],\n",
      "          [-9.4775e+00, -6.8972e+00, -1.2919e+01],\n",
      "          [-5.3173e+00, -6.5992e+00, -7.8031e+00]],\n",
      "\n",
      "         [[ 1.4641e+00, -1.6522e+00,  2.8938e+00],\n",
      "          [ 3.0718e+00,  3.8519e+00,  8.9192e+00],\n",
      "          [ 1.4945e+01,  1.8072e+01,  7.8460e+00]],\n",
      "\n",
      "         [[ 2.3566e+00,  2.1134e+00,  1.6296e+00],\n",
      "          [ 9.4615e+00,  9.0693e+00,  1.0424e+00],\n",
      "          [ 7.3955e+00, -1.5721e+00,  4.7677e+00]],\n",
      "\n",
      "         [[ 3.8665e+00,  3.6910e+00, -3.2254e+00],\n",
      "          [ 8.2848e+00,  1.1335e+01,  5.6206e+00],\n",
      "          [ 9.4431e+00,  1.5931e+01,  6.6220e+00]],\n",
      "\n",
      "         [[-5.8059e+00, -6.8000e+00, -5.6801e+00],\n",
      "          [-4.7471e+00, -4.5583e-01,  2.5118e+00],\n",
      "          [ 1.2426e+00,  4.9865e+00,  3.6071e+00]],\n",
      "\n",
      "         [[-4.8402e+00, -3.1580e+00, -8.0357e-01],\n",
      "          [-6.8964e+00, -1.0076e+01, -1.0149e+01],\n",
      "          [ 7.5310e+00, -2.1680e+00, -1.3987e+00]],\n",
      "\n",
      "         [[ 1.8814e+00,  6.4850e+00, -2.4349e+00],\n",
      "          [ 4.6980e-01, -4.2739e-01,  5.9480e+00],\n",
      "          [ 4.8854e-01,  5.5092e+00,  2.4561e+00]],\n",
      "\n",
      "         [[ 6.4304e+00, -1.7882e+00,  8.7652e+00],\n",
      "          [ 2.6893e+00, -1.4163e+00, -3.9525e+00],\n",
      "          [-2.6933e+00, -1.2160e+01, -8.2072e+00]],\n",
      "\n",
      "         [[ 8.5322e+00,  2.1324e+00,  2.0537e+00],\n",
      "          [ 7.3839e+00,  1.7225e+00, -4.5678e+00],\n",
      "          [ 1.0294e+01,  9.3125e-01,  6.0450e+00]],\n",
      "\n",
      "         [[-6.4079e+00, -4.1864e+00, -3.4164e+00],\n",
      "          [-5.5811e+00, -8.6498e+00,  1.5957e-01],\n",
      "          [ 1.5107e+00, -1.1364e+01, -4.3111e+00]],\n",
      "\n",
      "         [[-5.9112e+00,  1.0174e+01,  9.3950e+00],\n",
      "          [-1.1121e+00,  8.4347e+00,  6.9819e+00],\n",
      "          [ 3.9289e+00,  1.0275e+01,  3.8587e+00]],\n",
      "\n",
      "         [[ 4.3815e+00, -3.3545e+00,  3.8626e+00],\n",
      "          [ 3.4558e+00,  3.1050e-01, -3.9126e+00],\n",
      "          [ 2.6509e+00,  7.9246e-01, -6.6392e+00]],\n",
      "\n",
      "         [[-2.5555e+00, -5.5719e+00,  9.0077e-01],\n",
      "          [-3.5690e+00, -3.6162e+00,  8.9537e+00],\n",
      "          [ 5.2036e+00,  1.1415e+01,  5.0173e+00]],\n",
      "\n",
      "         [[-1.1978e+00, -6.0554e+00, -2.5344e+00],\n",
      "          [ 5.5720e-01,  1.0559e+01,  8.4872e+00],\n",
      "          [ 9.0260e+00,  3.6497e+00,  7.4694e+00]],\n",
      "\n",
      "         [[-2.0615e+00, -2.9419e+00,  5.6444e+00],\n",
      "          [ 6.9038e-02, -1.1934e+00,  2.4905e+00],\n",
      "          [-8.6935e+00, -2.9418e+00, -2.3955e+00]],\n",
      "\n",
      "         [[ 1.3307e+01,  4.6928e+00,  1.2866e+01],\n",
      "          [ 4.1512e+00,  1.4819e+01,  1.2864e+01],\n",
      "          [ 1.2055e+01,  5.8130e+00,  5.4783e+00]],\n",
      "\n",
      "         [[-9.4914e+00, -1.4016e+01, -3.5725e+00],\n",
      "          [-2.1224e+01, -7.6232e+00, -7.3130e+00],\n",
      "          [-1.3175e+01, -1.2351e+01, -4.5656e+00]],\n",
      "\n",
      "         [[-1.0647e+01, -1.6798e+01, -7.1448e-01],\n",
      "          [-1.3792e+01, -3.7417e+00, -9.1354e+00],\n",
      "          [-3.5064e+00, -5.6484e+00, -1.0031e+01]],\n",
      "\n",
      "         [[ 2.6667e+00, -4.4700e-01,  2.9994e+00],\n",
      "          [ 2.7490e+00, -2.6855e+00, -3.0351e+00],\n",
      "          [-2.4086e+00,  1.4948e+00, -9.0130e+00]],\n",
      "\n",
      "         [[ 3.6116e+00,  2.8318e+00, -3.2734e+00],\n",
      "          [ 2.0908e+00, -4.7741e+00,  1.9412e+00],\n",
      "          [ 6.8920e-01,  1.9249e+00, -4.2260e+00]],\n",
      "\n",
      "         [[-6.4911e-01,  1.4366e+01,  3.5775e+00],\n",
      "          [ 2.8121e+00,  5.1930e+00,  1.5458e+01],\n",
      "          [ 1.0417e+01,  1.1579e+01,  1.1893e+01]],\n",
      "\n",
      "         [[ 8.2714e+00,  1.1812e+01, -6.3672e+00],\n",
      "          [ 6.6282e+00,  1.3404e+01, -1.8837e+00],\n",
      "          [ 3.0128e+00, -5.5767e+00, -1.5928e+00]],\n",
      "\n",
      "         [[ 5.3380e+00, -2.9487e-01,  4.6412e+00],\n",
      "          [ 3.8932e+00, -4.3542e+00, -2.8166e+00],\n",
      "          [-2.7744e+00,  9.8807e-01, -8.7967e+00]],\n",
      "\n",
      "         [[ 6.7980e+00,  1.0394e+01,  1.2109e+01],\n",
      "          [ 1.0949e+01,  1.3516e+01,  1.8680e+01],\n",
      "          [ 4.7029e+00,  1.1905e+01,  4.8649e+00]],\n",
      "\n",
      "         [[-7.2184e+00, -6.6266e+00, -4.3200e+00],\n",
      "          [-4.8187e+00, -7.5617e+00, -3.1376e+00],\n",
      "          [-8.6600e+00,  1.5430e-01,  3.3446e+00]],\n",
      "\n",
      "         [[ 3.9177e+00,  1.7335e+00,  4.8065e+00],\n",
      "          [ 3.5283e+00,  3.6849e+00,  4.2832e+00],\n",
      "          [ 1.1976e+01,  5.2033e+00,  5.7067e+00]],\n",
      "\n",
      "         [[-9.8239e+00, -1.3295e+01, -3.3296e+00],\n",
      "          [-9.6862e+00, -1.1987e+01, -4.9146e+00],\n",
      "          [-1.1561e+01,  2.0281e+00, -9.5186e+00]],\n",
      "\n",
      "         [[ 3.5834e+00,  4.7398e+00,  1.4064e+01],\n",
      "          [ 3.4230e+00,  3.2606e+00,  8.3300e+00],\n",
      "          [ 2.0626e+00,  3.7634e+00, -6.9722e-01]],\n",
      "\n",
      "         [[ 1.1332e+00, -1.7280e+01, -7.7852e+00],\n",
      "          [-1.2591e+01, -3.3959e+00, -9.6998e+00],\n",
      "          [-1.2414e+01, -1.4146e+01, -3.5798e+00]]],\n",
      "\n",
      "\n",
      "        [[[-1.6290e+00,  6.3791e+00,  1.8310e+01],\n",
      "          [-2.9181e+00,  7.8631e+00,  1.2331e+01],\n",
      "          [ 4.0288e+00,  7.9162e+00,  6.1245e+00]],\n",
      "\n",
      "         [[-7.4999e-01, -1.3590e+00, -4.1292e+00],\n",
      "          [-1.0735e+01, -3.6308e+00, -3.4051e+00],\n",
      "          [-4.6021e+00, -4.0944e+00,  3.8529e+00]],\n",
      "\n",
      "         [[-2.7841e-01, -2.5033e+00, -7.1352e+00],\n",
      "          [-1.5301e+01, -1.5327e+01, -8.9060e+00],\n",
      "          [-9.8518e+00, -9.9865e+00, -4.4466e+00]],\n",
      "\n",
      "         [[-5.2352e+00, -1.6359e+01, -1.9155e+01],\n",
      "          [-4.3034e+00, -1.0251e+01, -3.4973e+00],\n",
      "          [-8.7216e+00, -9.3384e+00, -1.2694e+00]],\n",
      "\n",
      "         [[ 1.2675e+00,  4.0405e+00, -1.9288e+00],\n",
      "          [ 1.2483e+01,  1.0918e+01,  6.6721e+00],\n",
      "          [ 1.6136e+01,  1.1558e+01,  7.8340e+00]],\n",
      "\n",
      "         [[ 4.5169e+00,  4.3676e+00,  2.7941e+00],\n",
      "          [ 3.8343e+00,  1.0692e+01,  7.2530e+00],\n",
      "          [ 2.8866e+00,  1.0801e+01,  5.0331e+00]],\n",
      "\n",
      "         [[ 8.7198e+00,  1.0358e+01,  1.1474e+00],\n",
      "          [ 1.3553e+01,  1.6971e+01,  7.8502e+00],\n",
      "          [ 9.4789e+00,  1.1788e+01,  5.7109e+00]],\n",
      "\n",
      "         [[-6.6392e+00,  1.0325e+00,  5.3916e+00],\n",
      "          [-2.0417e+00,  2.5129e+00,  1.4224e+00],\n",
      "          [ 5.3363e+00,  9.6504e+00,  2.3759e+00]],\n",
      "\n",
      "         [[-3.7746e+00, -6.9748e+00, -1.0981e+01],\n",
      "          [-5.7494e+00, -5.7516e+00,  1.9877e+00],\n",
      "          [ 4.8878e+00, -1.0483e+00, -1.5323e+00]],\n",
      "\n",
      "         [[ 8.3991e+00,  7.3758e+00,  6.9483e-01],\n",
      "          [-5.0370e-01,  1.0043e+01, -1.5661e-01],\n",
      "          [-1.7905e+00, -1.5898e+00, -1.3787e+00]],\n",
      "\n",
      "         [[ 2.1383e+00,  1.2943e+01,  7.0721e-01],\n",
      "          [ 6.0177e+00, -2.0380e+00, -3.3859e+00],\n",
      "          [-5.7345e-01, -9.1295e+00, -9.5165e+00]],\n",
      "\n",
      "         [[ 1.2327e+01,  5.7455e+00, -2.6516e+00],\n",
      "          [ 5.7381e+00, -7.8672e+00, -3.8227e+00],\n",
      "          [ 2.1029e+00,  1.5264e+00, -3.1760e+00]],\n",
      "\n",
      "         [[-5.4040e+00, -9.4334e+00, -9.6561e+00],\n",
      "          [-3.3732e+00, -8.3494e+00, -7.0541e+00],\n",
      "          [-2.9421e-01, -6.9657e+00, -4.7243e+00]],\n",
      "\n",
      "         [[-6.6083e-01,  4.1577e+00,  1.0439e+01],\n",
      "          [-1.7464e+00,  6.5143e+00,  7.5378e+00],\n",
      "          [ 7.0832e-02,  3.4198e+00, -9.2248e-01]],\n",
      "\n",
      "         [[ 1.0044e+00,  4.6049e+00,  1.1955e+00],\n",
      "          [ 4.5212e+00, -1.7203e-01, -3.2786e+00],\n",
      "          [ 6.5324e+00, -2.1900e-03, -9.1479e+00]],\n",
      "\n",
      "         [[-7.8223e+00, -5.3046e-03, -8.2315e-01],\n",
      "          [ 1.9117e+00,  6.6971e+00,  1.9747e+00],\n",
      "          [ 1.1842e+01,  1.0832e+01,  9.0077e+00]],\n",
      "\n",
      "         [[ 2.0060e+00,  4.0044e+00,  3.6087e+00],\n",
      "          [ 7.1372e+00,  6.5923e+00, -9.6082e-01],\n",
      "          [ 4.7834e+00,  8.0507e+00,  7.4611e+00]],\n",
      "\n",
      "         [[-1.3594e+00,  4.9089e+00, -2.6031e-01],\n",
      "          [-6.3054e+00, -9.4204e+00,  2.3876e+00],\n",
      "          [-8.1818e+00, -5.6090e+00,  1.9469e+00]],\n",
      "\n",
      "         [[ 6.4556e+00,  1.5133e+01,  8.1501e+00],\n",
      "          [ 1.1768e+01,  8.8059e+00,  1.3763e+01],\n",
      "          [ 9.6549e+00,  4.6258e+00,  6.0580e+00]],\n",
      "\n",
      "         [[-9.8106e+00, -7.0389e+00,  2.5540e+00],\n",
      "          [-1.2352e+01, -1.6962e+01, -6.1246e+00],\n",
      "          [-1.5137e+01, -1.4014e+01, -1.4324e+01]],\n",
      "\n",
      "         [[-1.0515e+01, -3.5720e+00, -5.4189e+00],\n",
      "          [-2.3842e+00, -1.1493e+01, -9.2629e+00],\n",
      "          [-1.9724e+00, -5.7938e-01, -6.8444e+00]],\n",
      "\n",
      "         [[ 1.5699e+00, -5.4154e-01, -4.3305e+00],\n",
      "          [ 9.8684e-01, -8.5585e+00,  5.6663e-01],\n",
      "          [-3.3054e+00, -7.5892e+00, -6.2689e+00]],\n",
      "\n",
      "         [[ 8.4743e+00,  8.7301e+00,  1.5311e+00],\n",
      "          [ 5.2001e+00, -3.9543e+00, -6.1627e+00],\n",
      "          [ 6.9629e+00,  4.5263e-01,  4.4819e+00]],\n",
      "\n",
      "         [[ 1.8458e+00,  4.7003e+00,  1.5452e+01],\n",
      "          [ 3.1319e+00,  1.3936e+01,  9.1319e+00],\n",
      "          [ 8.9022e+00,  7.3387e+00,  5.8197e+00]],\n",
      "\n",
      "         [[ 1.2771e+01,  1.4898e+00, -4.1418e+00],\n",
      "          [ 1.3131e+01,  2.2502e+00, -5.4882e+00],\n",
      "          [ 1.0136e+00, -2.8761e+00, -1.5011e+00]],\n",
      "\n",
      "         [[ 1.2431e+00,  1.6483e+00, -3.9307e+00],\n",
      "          [ 1.6282e+00, -4.4497e-01, -2.0258e+00],\n",
      "          [ 4.1253e+00, -3.6479e+00, -8.2212e-01]],\n",
      "\n",
      "         [[ 8.7654e+00,  1.1373e+01,  1.2680e+01],\n",
      "          [ 9.8735e+00,  8.2289e+00,  9.3030e+00],\n",
      "          [ 4.7899e+00,  3.3438e+00,  1.3274e+01]],\n",
      "\n",
      "         [[-1.2854e+01, -1.2594e+01, -2.8448e+00],\n",
      "          [-6.5775e+00,  1.9210e-01,  1.1152e+00],\n",
      "          [-4.3130e+00,  2.8903e+00,  7.1117e-01]],\n",
      "\n",
      "         [[ 5.4331e+00,  6.4694e-01,  2.2074e-01],\n",
      "          [ 8.2765e+00,  8.5867e+00,  1.1131e+01],\n",
      "          [ 3.7019e+00, -3.1859e-01, -2.4731e+00]],\n",
      "\n",
      "         [[-1.3178e+01, -9.9554e+00, -1.1767e+01],\n",
      "          [-1.0278e+01, -9.5932e+00, -1.2342e+01],\n",
      "          [-5.0609e+00, -9.5404e+00, -1.8665e+00]],\n",
      "\n",
      "         [[ 6.7730e-01,  1.0042e+01,  9.6175e+00],\n",
      "          [-1.9441e+00,  4.5315e+00,  1.9249e+00],\n",
      "          [ 2.8057e-01,  1.3284e+00,  4.5271e+00]],\n",
      "\n",
      "         [[-4.8964e+00, -1.9346e+00, -1.0283e+01],\n",
      "          [-3.0094e+00, -1.3003e+01, -1.4780e+01],\n",
      "          [-1.3760e+01, -1.3550e+01, -8.5229e+00]]],\n",
      "\n",
      "\n",
      "        [[[ 9.6047e+00, -7.3884e-01,  1.3551e+01],\n",
      "          [ 3.6223e+00,  5.3254e+00,  1.4668e+01],\n",
      "          [ 4.0871e+00,  7.1577e+00,  1.2292e+01]],\n",
      "\n",
      "         [[ 8.6263e+00, -5.3601e+00, -3.9610e+00],\n",
      "          [ 1.4187e+00, -2.4955e+00, -9.8172e+00],\n",
      "          [-8.8111e+00, -7.5229e-01,  4.1888e+00]],\n",
      "\n",
      "         [[ 2.5077e+00, -7.9161e+00, -3.7695e+00],\n",
      "          [ 9.2876e-01, -1.1008e+01, -1.1948e+01],\n",
      "          [-4.9378e+00, -6.6643e+00, -8.5078e+00]],\n",
      "\n",
      "         [[-8.0954e+00, -1.2947e+01, -1.7904e+01],\n",
      "          [-4.6707e-01, -1.5804e+01, -1.3748e+01],\n",
      "          [-1.7783e+00, -6.3552e+00, -8.1114e+00]],\n",
      "\n",
      "         [[-2.1184e+00, -1.8313e+00, -2.4582e+00],\n",
      "          [ 4.4134e+00,  9.3000e+00,  2.1008e+00],\n",
      "          [ 1.3264e+01,  1.6818e+01,  1.4438e+01]],\n",
      "\n",
      "         [[ 3.0839e+00,  1.1935e+00,  2.3193e+00],\n",
      "          [ 4.8929e+00,  7.0598e+00,  7.0652e+00],\n",
      "          [ 2.3729e+00,  1.5318e+01,  2.0044e+00]],\n",
      "\n",
      "         [[ 5.9446e+00,  3.2566e+00,  1.5805e+00],\n",
      "          [ 1.3635e+01,  7.7481e+00,  6.7409e+00],\n",
      "          [ 1.1206e+01,  1.6691e+01,  1.2002e+01]],\n",
      "\n",
      "         [[-4.4276e+00, -4.8204e+00, -3.5936e+00],\n",
      "          [-6.3297e+00, -4.3057e-01, -8.7262e-01],\n",
      "          [-8.0288e-01,  9.6970e+00,  7.4679e+00]],\n",
      "\n",
      "         [[-9.1240e+00, -9.5453e+00, -6.6369e+00],\n",
      "          [-8.8295e+00, -7.1727e+00, -1.6203e+00],\n",
      "          [ 1.0565e+00,  2.4760e+00, -1.1719e+00]],\n",
      "\n",
      "         [[ 3.7123e+00,  2.9068e+00,  4.0652e+00],\n",
      "          [ 3.5694e+00,  5.0169e+00,  5.7890e+00],\n",
      "          [-2.3937e+00, -8.8178e-02,  4.9725e+00]],\n",
      "\n",
      "         [[ 2.6424e-01,  1.2250e+01,  8.1262e-01],\n",
      "          [-2.1852e+00,  1.0388e+01, -5.2863e-02],\n",
      "          [-7.3361e+00, -8.5632e+00, -1.2737e+01]],\n",
      "\n",
      "         [[ 1.1987e+01,  5.1389e+00, -3.3562e-01],\n",
      "          [ 8.1262e+00,  4.4373e+00, -3.8335e+00],\n",
      "          [ 3.3151e+00,  6.5910e+00,  1.7931e+00]],\n",
      "\n",
      "         [[-5.0276e+00, -1.0104e+01, -3.6271e+00],\n",
      "          [-1.3205e+01, -2.8657e+00, -1.0646e+01],\n",
      "          [-3.2976e+00, -5.3939e+00, -8.4897e+00]],\n",
      "\n",
      "         [[-2.6032e+00, -2.2180e+00,  9.2605e+00],\n",
      "          [-1.4976e+00,  6.4846e+00,  1.4091e+01],\n",
      "          [ 8.7707e+00,  7.0327e+00,  5.9579e+00]],\n",
      "\n",
      "         [[-1.3064e+00,  6.9880e+00,  3.4155e-01],\n",
      "          [-5.8306e-01,  3.2536e+00, -4.0354e-02],\n",
      "          [ 6.3339e+00,  8.9876e-01, -6.3275e+00]],\n",
      "\n",
      "         [[-6.5485e+00, -5.3973e+00, -3.3772e+00],\n",
      "          [-5.9393e+00, -9.0221e-01, -4.2650e+00],\n",
      "          [ 8.5019e+00,  1.0532e+01,  9.9411e+00]],\n",
      "\n",
      "         [[ 1.9782e+00,  3.2371e+00,  4.1912e+00],\n",
      "          [ 5.2203e+00, -2.5384e+00, -3.0426e-02],\n",
      "          [ 6.0901e+00,  1.2295e+01,  4.4337e+00]],\n",
      "\n",
      "         [[-5.5379e-01,  3.5056e+00,  2.9124e+00],\n",
      "          [-7.3302e+00, -6.1298e+00,  3.6303e+00],\n",
      "          [-1.1477e+01, -1.0580e+01,  4.4198e+00]],\n",
      "\n",
      "         [[ 5.0140e+00,  1.2207e+01,  1.1656e+01],\n",
      "          [ 8.0010e+00,  1.1849e+01,  1.7671e+01],\n",
      "          [ 3.7417e+00,  8.9745e+00,  9.6801e+00]],\n",
      "\n",
      "         [[-1.4136e+01, -8.6866e+00, -1.2813e+00],\n",
      "          [-1.9277e+01, -2.2596e+01, -1.4766e+00],\n",
      "          [-1.9439e+01, -1.5232e+01, -1.2537e+01]],\n",
      "\n",
      "         [[-1.1376e+01, -8.7493e+00, -8.7837e+00],\n",
      "          [-9.9992e+00, -1.5397e+01, -8.4326e+00],\n",
      "          [ 9.7542e-01, -3.2239e+00, -9.5764e+00]],\n",
      "\n",
      "         [[ 4.7668e+00,  1.8818e-01, -1.8402e+00],\n",
      "          [ 5.4049e+00, -5.5863e+00,  5.5788e-01],\n",
      "          [ 1.7888e+00, -9.4179e+00,  8.4233e-02]],\n",
      "\n",
      "         [[ 4.3913e+00,  7.5108e+00, -1.4728e+00],\n",
      "          [ 1.2413e+00,  1.0709e+00, -8.1921e+00],\n",
      "          [ 8.4713e-01, -2.4171e+00,  5.2994e+00]],\n",
      "\n",
      "         [[ 3.7249e+00,  2.4051e-02,  1.2007e+01],\n",
      "          [-7.6802e-01,  1.5362e+01,  8.8144e+00],\n",
      "          [ 7.5416e+00,  1.2706e+01,  1.0454e+01]],\n",
      "\n",
      "         [[ 1.0289e+01,  9.4594e+00,  3.5331e+00],\n",
      "          [ 1.4638e+01,  1.2071e+01, -6.8785e+00],\n",
      "          [ 3.8484e+00, -2.6836e-01, -9.7891e+00]],\n",
      "\n",
      "         [[-5.3179e+00,  3.9929e+00, -3.9179e+00],\n",
      "          [ 2.8482e+00, -9.0824e-01,  4.1371e-01],\n",
      "          [ 1.4239e+00, -5.6828e+00, -1.7142e+00]],\n",
      "\n",
      "         [[ 3.7275e+00,  1.4129e+01,  1.1769e+01],\n",
      "          [ 9.5122e+00,  1.2548e+01,  1.1275e+01],\n",
      "          [ 7.5099e+00,  3.9628e+00,  1.4818e+01]],\n",
      "\n",
      "         [[-8.9187e+00, -1.1220e+01, -4.6761e+00],\n",
      "          [-1.0532e+01, -7.3066e+00,  3.5394e-01],\n",
      "          [-5.2563e+00, -3.3762e+00,  1.6459e+00]],\n",
      "\n",
      "         [[ 3.4666e+00,  1.9505e+00,  3.1032e+00],\n",
      "          [ 4.0992e+00,  7.5455e+00,  7.3310e+00],\n",
      "          [ 7.7600e+00,  6.5864e+00,  1.2399e+00]],\n",
      "\n",
      "         [[-1.6519e+01, -7.2758e+00, -1.1837e+01],\n",
      "          [-1.0312e+01, -1.1195e+01, -7.9870e+00],\n",
      "          [-3.1562e+00, -1.3690e+01, -1.4919e+00]],\n",
      "\n",
      "         [[ 9.0969e-01,  1.4270e+01,  2.4964e+00],\n",
      "          [ 2.6022e+00,  5.8724e+00,  1.1947e+01],\n",
      "          [ 1.5210e+00,  4.3964e+00,  5.6000e+00]],\n",
      "\n",
      "         [[-5.7555e+00, -2.9475e+00, -5.3105e+00],\n",
      "          [-2.9881e+00, -1.6868e+01, -1.0241e+01],\n",
      "          [-1.5727e+01, -1.4173e+01, -1.3952e+01]]]],\n",
      "       grad_fn=<ConvolutionBackward0>) torch.Size([3, 32, 3, 3])\n"
     ]
    }
   ],
   "source": [
    "print(\"conv(x), conv(x)のサイズ: \\n\", conv(x), conv(x).shape)"
   ]
  },
  {
   "cell_type": "markdown",
   "metadata": {},
   "source": [
    "### Pytorchの勾配について, 最適化の方法編"
   ]
  },
  {
   "cell_type": "markdown",
   "metadata": {},
   "source": [
    "PytorchのTensorには.data, .grad, .grad_fnという属性があります。<br>\n",
    "dataはテンソルそのものです。<br>gradは損失関数により計算される最適化のためにパラメーターを動かす方向を表します。backwardメソッドにより加算されます。<br>\n",
    "grad_fnはどのTensorを使ってどう作られたかを表すものです。自動微分の計算グラフ構築などに用いられます。"
   ]
  },
  {
   "cell_type": "code",
   "execution_count": 42,
   "metadata": {},
   "outputs": [
    {
     "name": "stdout",
     "output_type": "stream",
     "text": [
      "Tensor.data:  tensor([1., 2., 3.])\n",
      "Tensor.grad:  None\n",
      "Tensor.grad_fn:  None\n"
     ]
    }
   ],
   "source": [
    "a = torch.Tensor([1.,2.,3.]).to(torch.float32)\n",
    "a.requires_grad = True #勾配をTrueに\n",
    "print(\"Tensor.data: \", a.data)\n",
    "print(\"Tensor.grad: \",a.grad)\n",
    "print(\"Tensor.grad_fn: \",a.grad_fn)"
   ]
  },
  {
   "cell_type": "markdown",
   "metadata": {},
   "source": [
    "まだ計算がなされていないので、Tensorのgradには勾配が計算されていない, ここで新たなTensorを制作し, <br>$(\\rm{Tensor1} - \\rm{Tensor2})^{2}$の平均を計算して勾配を計算してみる。"
   ]
  },
  {
   "cell_type": "code",
   "execution_count": 43,
   "metadata": {},
   "outputs": [
    {
     "name": "stdout",
     "output_type": "stream",
     "text": [
      "loss = torch.pow(Tensor1-Tensor2, 2):  tensor(9., grad_fn=<MeanBackward0>)\n",
      "Tensor1.grad: \n",
      " tensor([-2., -2., -2.])\n",
      "Tensor2.grad: \n",
      " tensor([2., 2., 2.])\n"
     ]
    }
   ],
   "source": [
    "b = torch.Tensor([4.,5.,6.]).to(torch.float32)\n",
    "b.requires_grad = True #勾配をTrueに\n",
    "loss = torch.pow(a-b, 2).mean()\n",
    "print(\"loss = torch.pow(Tensor1-Tensor2, 2): \", loss)\n",
    "loss.backward()\n",
    "print(\"Tensor1.grad: \\n\", a.grad)\n",
    "print(\"Tensor2.grad: \\n\", b.grad)"
   ]
  },
  {
   "cell_type": "markdown",
   "metadata": {},
   "source": [
    "計算グラフはtorchvizのmake_dot関数で表示ができます。正しくモデルが制作できるか気になったら確認しましょう。"
   ]
  },
  {
   "cell_type": "code",
   "execution_count": 44,
   "metadata": {},
   "outputs": [
    {
     "data": {
      "image/svg+xml": "<?xml version=\"1.0\" encoding=\"UTF-8\" standalone=\"no\"?>\n<!DOCTYPE svg PUBLIC \"-//W3C//DTD SVG 1.1//EN\"\n \"http://www.w3.org/Graphics/SVG/1.1/DTD/svg11.dtd\">\n<!-- Generated by graphviz version 8.0.5 (20230430.1635)\n -->\n<!-- Pages: 1 -->\n<svg width=\"226pt\" height=\"326pt\"\n viewBox=\"0.00 0.00 226.00 326.00\" xmlns=\"http://www.w3.org/2000/svg\" xmlns:xlink=\"http://www.w3.org/1999/xlink\">\n<g id=\"graph0\" class=\"graph\" transform=\"scale(1 1) rotate(0) translate(4 322)\">\n<polygon fill=\"white\" stroke=\"none\" points=\"-4,4 -4,-322 222,-322 222,4 -4,4\"/>\n<!-- 140640054518864 -->\n<g id=\"node1\" class=\"node\">\n<title>140640054518864</title>\n<polygon fill=\"#caff70\" stroke=\"black\" points=\"136,-30.5 82,-30.5 82,0 136,0 136,-30.5\"/>\n<text text-anchor=\"middle\" x=\"109\" y=\"-17\" font-family=\"monospace\" font-size=\"10.00\">Loss</text>\n<text text-anchor=\"middle\" x=\"109\" y=\"-5.75\" font-family=\"monospace\" font-size=\"10.00\"> ()</text>\n</g>\n<!-- 140640869181808 -->\n<g id=\"node2\" class=\"node\">\n<title>140640869181808</title>\n<polygon fill=\"lightgrey\" stroke=\"black\" points=\"156,-85.75 62,-85.75 62,-66.5 156,-66.5 156,-85.75\"/>\n<text text-anchor=\"middle\" x=\"109\" y=\"-72.25\" font-family=\"monospace\" font-size=\"10.00\">MeanBackward0</text>\n</g>\n<!-- 140640869181808&#45;&gt;140640054518864 -->\n<g id=\"edge7\" class=\"edge\">\n<title>140640869181808&#45;&gt;140640054518864</title>\n<path fill=\"none\" stroke=\"black\" d=\"M109,-66.18C109,-59.65 109,-50.45 109,-41.72\"/>\n<polygon fill=\"black\" stroke=\"black\" points=\"112.5,-41.78 109,-31.78 105.5,-41.78 112.5,-41.78\"/>\n</g>\n<!-- 140640869181904 -->\n<g id=\"node3\" class=\"node\">\n<title>140640869181904</title>\n<polygon fill=\"lightgrey\" stroke=\"black\" points=\"153,-141 65,-141 65,-121.75 153,-121.75 153,-141\"/>\n<text text-anchor=\"middle\" x=\"109\" y=\"-127.5\" font-family=\"monospace\" font-size=\"10.00\">PowBackward0</text>\n</g>\n<!-- 140640869181904&#45;&gt;140640869181808 -->\n<g id=\"edge1\" class=\"edge\">\n<title>140640869181904&#45;&gt;140640869181808</title>\n<path fill=\"none\" stroke=\"black\" d=\"M109,-121.58C109,-114.92 109,-105.49 109,-97.03\"/>\n<polygon fill=\"black\" stroke=\"black\" points=\"112.5,-97.11 109,-87.11 105.5,-97.11 112.5,-97.11\"/>\n</g>\n<!-- 140640869181664 -->\n<g id=\"node4\" class=\"node\">\n<title>140640869181664</title>\n<polygon fill=\"lightgrey\" stroke=\"black\" points=\"153,-196.25 65,-196.25 65,-177 153,-177 153,-196.25\"/>\n<text text-anchor=\"middle\" x=\"109\" y=\"-182.75\" font-family=\"monospace\" font-size=\"10.00\">SubBackward0</text>\n</g>\n<!-- 140640869181664&#45;&gt;140640869181904 -->\n<g id=\"edge2\" class=\"edge\">\n<title>140640869181664&#45;&gt;140640869181904</title>\n<path fill=\"none\" stroke=\"black\" d=\"M109,-176.83C109,-170.17 109,-160.74 109,-152.28\"/>\n<polygon fill=\"black\" stroke=\"black\" points=\"112.5,-152.36 109,-142.36 105.5,-152.36 112.5,-152.36\"/>\n</g>\n<!-- 140640869181952 -->\n<g id=\"node5\" class=\"node\">\n<title>140640869181952</title>\n<polygon fill=\"lightgrey\" stroke=\"black\" points=\"100,-251.5 0,-251.5 0,-232.25 100,-232.25 100,-251.5\"/>\n<text text-anchor=\"middle\" x=\"50\" y=\"-238\" font-family=\"monospace\" font-size=\"10.00\">AccumulateGrad</text>\n</g>\n<!-- 140640869181952&#45;&gt;140640869181664 -->\n<g id=\"edge3\" class=\"edge\">\n<title>140640869181952&#45;&gt;140640869181664</title>\n<path fill=\"none\" stroke=\"black\" d=\"M60.01,-231.84C68.54,-224.15 81,-212.9 91.22,-203.68\"/>\n<polygon fill=\"black\" stroke=\"black\" points=\"93.06,-206.82 98.14,-197.52 88.37,-201.63 93.06,-206.82\"/>\n</g>\n<!-- 140640482625952 -->\n<g id=\"node6\" class=\"node\">\n<title>140640482625952</title>\n<polygon fill=\"lightblue\" stroke=\"black\" points=\"79,-318 21,-318 21,-287.5 79,-287.5 79,-318\"/>\n<text text-anchor=\"middle\" x=\"50\" y=\"-304.5\" font-family=\"monospace\" font-size=\"10.00\">Tensor1</text>\n<text text-anchor=\"middle\" x=\"50\" y=\"-293.25\" font-family=\"monospace\" font-size=\"10.00\"> (3)</text>\n</g>\n<!-- 140640482625952&#45;&gt;140640869181952 -->\n<g id=\"edge4\" class=\"edge\">\n<title>140640482625952&#45;&gt;140640869181952</title>\n<path fill=\"none\" stroke=\"black\" d=\"M50,-287.2C50,-279.87 50,-270.87 50,-262.91\"/>\n<polygon fill=\"black\" stroke=\"black\" points=\"53.5,-262.95 50,-252.95 46.5,-262.95 53.5,-262.95\"/>\n</g>\n<!-- 140640869181568 -->\n<g id=\"node7\" class=\"node\">\n<title>140640869181568</title>\n<polygon fill=\"lightgrey\" stroke=\"black\" points=\"218,-251.5 118,-251.5 118,-232.25 218,-232.25 218,-251.5\"/>\n<text text-anchor=\"middle\" x=\"168\" y=\"-238\" font-family=\"monospace\" font-size=\"10.00\">AccumulateGrad</text>\n</g>\n<!-- 140640869181568&#45;&gt;140640869181664 -->\n<g id=\"edge5\" class=\"edge\">\n<title>140640869181568&#45;&gt;140640869181664</title>\n<path fill=\"none\" stroke=\"black\" d=\"M157.99,-231.84C149.46,-224.15 137,-212.9 126.78,-203.68\"/>\n<polygon fill=\"black\" stroke=\"black\" points=\"129.63,-201.63 119.86,-197.52 124.94,-206.82 129.63,-201.63\"/>\n</g>\n<!-- 140640495480080 -->\n<g id=\"node8\" class=\"node\">\n<title>140640495480080</title>\n<polygon fill=\"lightblue\" stroke=\"black\" points=\"197,-318 139,-318 139,-287.5 197,-287.5 197,-318\"/>\n<text text-anchor=\"middle\" x=\"168\" y=\"-304.5\" font-family=\"monospace\" font-size=\"10.00\">Tensor2</text>\n<text text-anchor=\"middle\" x=\"168\" y=\"-293.25\" font-family=\"monospace\" font-size=\"10.00\"> (3)</text>\n</g>\n<!-- 140640495480080&#45;&gt;140640869181568 -->\n<g id=\"edge6\" class=\"edge\">\n<title>140640495480080&#45;&gt;140640869181568</title>\n<path fill=\"none\" stroke=\"black\" d=\"M168,-287.2C168,-279.87 168,-270.87 168,-262.91\"/>\n<polygon fill=\"black\" stroke=\"black\" points=\"171.5,-262.95 168,-252.95 164.5,-262.95 171.5,-262.95\"/>\n</g>\n</g>\n</svg>\n",
      "text/plain": [
       "<graphviz.graphs.Digraph at 0x7fe9810c68b0>"
      ]
     },
     "execution_count": 44,
     "metadata": {},
     "output_type": "execute_result"
    }
   ],
   "source": [
    "from torchviz import make_dot\n",
    "graph = make_dot(loss,params = {\"Tensor1\": a,\"Tensor2\": b, \"Loss\": loss})\n",
    "graph"
   ]
  },
  {
   "cell_type": "markdown",
   "metadata": {},
   "source": [
    "勾配計算を適用しているTensorの勾配計算を一時的に停止するには.detachメソッドを用いる。"
   ]
  },
  {
   "cell_type": "code",
   "execution_count": 45,
   "metadata": {},
   "outputs": [
    {
     "name": "stdout",
     "output_type": "stream",
     "text": [
      "Tensor1.detach():  tensor([1., 2., 3.])\n"
     ]
    }
   ],
   "source": [
    "print(\"Tensor1.detach(): \", a.detach())"
   ]
  },
  {
   "cell_type": "markdown",
   "metadata": {},
   "source": [
    "with torch.no_grad():と書くことで, withブロックが適用される範囲では勾配計算が停止されます。"
   ]
  },
  {
   "cell_type": "code",
   "execution_count": 46,
   "metadata": {},
   "outputs": [
    {
     "name": "stdout",
     "output_type": "stream",
     "text": [
      "gradが適用されている場合のTensor1 + Tensor2:  tensor([5., 7., 9.], grad_fn=<AddBackward0>)\n",
      "gradが適用されていない場合のTensor1 + Tensor2:  tensor([5., 7., 9.])\n"
     ]
    }
   ],
   "source": [
    "add1 = a + b\n",
    "with torch.no_grad():\n",
    "    add2 = a + b\n",
    "print(\"gradが適用されている場合のTensor1 + Tensor2: \", add1)\n",
    "print(\"gradが適用されていない場合のTensor1 + Tensor2: \", add2)"
   ]
  },
  {
   "cell_type": "markdown",
   "metadata": {},
   "source": [
    "では実際にモデルを定義して学習するところまでをやってみましょう。<br>今回はモデル定義編で制作したlinearクラスを使って学習していきましょう。<br>\n",
    "データはmake_moonsを用います。"
   ]
  },
  {
   "cell_type": "code",
   "execution_count": 47,
   "metadata": {},
   "outputs": [
    {
     "data": {
      "image/png": "[encoded data removed]",
      "text/plain": [
       "<Figure size 640x480 with 1 Axes>"
      ]
     },
     "metadata": {},
     "output_type": "display_data"
    }
   ],
   "source": [
    "from sklearn.datasets import make_moons\n",
    "import matplotlib.pyplot as plt\n",
    "data, label = make_moons(100)\n",
    "plt.scatter(data[label == 0][:,0],data[label == 0][:,1], s = 10, color = \"blue\")\n",
    "plt.scatter(data[label == 1][:,0],data[label == 1][:,1], s = 10, color = \"red\", marker = \"x\")\n",
    "plt.legend([\"label = 0\", \"label = 1\"])\n",
    "plt.show()"
   ]
  },
  {
   "cell_type": "code",
   "execution_count": 48,
   "metadata": {},
   "outputs": [],
   "source": [
    "#データとラベルのTensor化\n",
    "from torch import optim\n",
    "data = torch.Tensor(data)\n",
    "label = torch.Tensor(label).view(-1,1)\n",
    "data = (data - data.mean(axis = 0))/data.std(axis = 0) #平均で引いて標準偏差で割っておく。これで精度改善につながる。\n",
    "#モデル定義\n",
    "class Net(nn.Module):\n",
    "    def __init__(self, in_dim, hidden_dim, out_dim):\n",
    "        super().__init__()\n",
    "        self.l1 = linear(in_dim, hidden_dim)\n",
    "        self.relu = relu\n",
    "        self.l2 = linear(hidden_dim, out_dim)\n",
    "    def forward(self, x):\n",
    "        x = self.l1(x)\n",
    "        x = self.relu(x)\n",
    "        x = self.l2(x)\n",
    "        return 1/(1+torch.exp(-x))"
   ]
  },
  {
   "cell_type": "code",
   "execution_count": 49,
   "metadata": {},
   "outputs": [],
   "source": [
    "#上位APIを使う場合のコードは以下の通りとなります。\n",
    "#class Net(nn.Module):\n",
    "#    def __init__(self, in_dim, hidden_dim, out_dim):\n",
    "#        super().__init__()\n",
    "#        self.l1 = nn.Linear(in_dim, hidden_dim)\n",
    "#        nn.init.uniform_(self.l1.weight, a = -np.sqrt(6/in_dim), b = np.sqrt(6/in_dim))\n",
    "#        self.relu = nn.ReLU()\n",
    "#        self.l2 = nn.Linear(hidden_dim, out_dim)\n",
    "#        nn.init.uniform_(self.l2.weight, a = -np.sqrt(6/hidden_dim), b = np.sqrt(6/hidden_dim))\n",
    "#        #自作したlinearはHe uniformで実装したのでnn.initで初期化の方法を指定してあげなければならない。\n",
    "#    def forward(self, x):\n",
    "#        x = self.l1(x)\n",
    "#        x = self.relu(x)\n",
    "#        x = self.l2(x)\n",
    "#        return 1/(1+torch.exp(-x))"
   ]
  },
  {
   "cell_type": "markdown",
   "metadata": {},
   "source": [
    "次に、学習のための最適化アルゴリズムと損失関数を決定します。<br>\n",
    "最適化アルゴリズムと損失関数は上位APIのものを用います。<br>\n",
    "損失関数のスクラッチ実装は簡単なのでここでは説明をしませんが、自作の最適化手法を制作する方法はAppendixに記します。<br>"
   ]
  },
  {
   "cell_type": "markdown",
   "metadata": {},
   "source": [
    "機械学習で用いられる最適化の手法としては以下の記事などを参考にするのがおすすめです。<br>\n",
    "[【決定版】スーパーわかりやすい最適化アルゴリズム -損失関数からAdamとニュートン法-](https://qiita.com/omiita/items/1735c1d048fe5f611f80)<br>\n",
    "損失関数には今回は二値分類のためBinaryCrossEntropy(BCE)を用います。何故BCEを用いるのかに関しては、<br>\n",
    "「尤度関数の最大化」というワードについて調べてみると良いでしょう。<br>"
   ]
  },
  {
   "cell_type": "code",
   "execution_count": 50,
   "metadata": {},
   "outputs": [],
   "source": [
    "net = Net(2,30,1)\n",
    "optimizer = optim.SGD(net.parameters(), lr = 0.01)\n",
    "criterion = nn.BCELoss()"
   ]
  },
  {
   "cell_type": "code",
   "execution_count": 51,
   "metadata": {},
   "outputs": [
    {
     "name": "stdout",
     "output_type": "stream",
     "text": [
      "acc:  tensor(0.8100)\n",
      "acc:  tensor(0.8700)\n",
      "acc:  tensor(0.8800)\n",
      "acc:  tensor(0.8800)\n",
      "acc:  tensor(0.8800)\n",
      "acc:  tensor(0.8900)\n",
      "acc:  tensor(0.8900)\n",
      "acc:  tensor(0.8900)\n",
      "acc:  tensor(0.8900)\n",
      "acc:  tensor(0.8900)\n",
      "acc:  tensor(0.8900)\n",
      "acc:  tensor(0.8900)\n",
      "acc:  tensor(0.9000)\n",
      "acc:  tensor(0.9000)\n",
      "acc:  tensor(0.9000)\n",
      "acc:  tensor(0.9000)\n",
      "acc:  tensor(0.9100)\n",
      "acc:  tensor(0.9100)\n",
      "acc:  tensor(0.9100)\n",
      "acc:  tensor(0.9100)\n",
      "acc:  tensor(0.9100)\n",
      "acc:  tensor(0.9100)\n",
      "acc:  tensor(0.9100)\n",
      "acc:  tensor(0.9100)\n",
      "acc:  tensor(0.9100)\n",
      "acc:  tensor(0.9200)\n",
      "acc:  tensor(0.9200)\n",
      "acc:  tensor(0.9300)\n",
      "acc:  tensor(0.9300)\n",
      "acc:  tensor(0.9300)\n",
      "acc:  tensor(0.9300)\n",
      "acc:  tensor(0.9300)\n",
      "acc:  tensor(0.9300)\n",
      "acc:  tensor(0.9300)\n",
      "acc:  tensor(0.9300)\n",
      "acc:  tensor(0.9300)\n",
      "acc:  tensor(0.9400)\n",
      "acc:  tensor(0.9400)\n",
      "acc:  tensor(0.9500)\n",
      "acc:  tensor(0.9500)\n",
      "acc:  tensor(0.9500)\n",
      "acc:  tensor(0.9500)\n",
      "acc:  tensor(0.9500)\n",
      "acc:  tensor(0.9500)\n",
      "acc:  tensor(0.9500)\n",
      "acc:  tensor(0.9500)\n",
      "acc:  tensor(0.9500)\n",
      "acc:  tensor(0.9500)\n",
      "acc:  tensor(0.9600)\n",
      "acc:  tensor(0.9600)\n",
      "acc:  tensor(0.9600)\n",
      "acc:  tensor(0.9600)\n",
      "acc:  tensor(0.9700)\n",
      "acc:  tensor(0.9700)\n",
      "acc:  tensor(0.9700)\n",
      "acc:  tensor(0.9700)\n",
      "acc:  tensor(0.9700)\n",
      "acc:  tensor(0.9700)\n",
      "acc:  tensor(0.9700)\n",
      "acc:  tensor(0.9700)\n",
      "acc:  tensor(0.9700)\n",
      "acc:  tensor(0.9800)\n",
      "acc:  tensor(0.9800)\n",
      "acc:  tensor(0.9800)\n",
      "acc:  tensor(0.9800)\n",
      "acc:  tensor(0.9800)\n",
      "acc:  tensor(0.9800)\n",
      "acc:  tensor(0.9800)\n",
      "acc:  tensor(0.9800)\n",
      "acc:  tensor(0.9800)\n",
      "acc:  tensor(0.9800)\n",
      "acc:  tensor(0.9800)\n",
      "acc:  tensor(0.9900)\n",
      "acc:  tensor(0.9900)\n",
      "acc:  tensor(0.9900)\n",
      "acc:  tensor(0.9900)\n",
      "acc:  tensor(0.9900)\n",
      "acc:  tensor(0.9900)\n",
      "acc:  tensor(0.9900)\n",
      "acc:  tensor(0.9900)\n",
      "acc:  tensor(0.9900)\n",
      "acc:  tensor(0.9900)\n",
      "acc:  tensor(0.9900)\n",
      "acc:  tensor(0.9900)\n",
      "acc:  tensor(1.)\n",
      "acc:  tensor(1.)\n",
      "acc:  tensor(1.)\n",
      "acc:  tensor(1.)\n",
      "acc:  tensor(1.)\n",
      "acc:  tensor(1.)\n",
      "acc:  tensor(1.)\n",
      "acc:  tensor(1.)\n",
      "acc:  tensor(1.)\n",
      "acc:  tensor(1.)\n",
      "acc:  tensor(1.)\n",
      "acc:  tensor(1.)\n",
      "acc:  tensor(1.)\n",
      "acc:  tensor(1.)\n",
      "acc:  tensor(1.)\n",
      "acc:  tensor(1.)\n"
     ]
    }
   ],
   "source": [
    "for iteration in range(10000):\n",
    "    optimizer.zero_grad()\n",
    "    y_pred = net(data)\n",
    "    loss = criterion(y_pred, label) #ここ違うけどまあ\n",
    "    loss.backward()\n",
    "    optimizer.step()\n",
    "    if iteration % 100 == 0:\n",
    "        with torch.no_grad():\n",
    "            y_pred_label = torch.where(y_pred > 0.5, torch.ones_like(y_pred), torch.zeros_like(y_pred))\n",
    "            y_pred_label.to(torch.float32)\n",
    "            print(\"acc: \", (y_pred_label == label).sum() / len(y_pred_label))"
   ]
  },
  {
   "cell_type": "markdown",
   "metadata": {},
   "source": [
    "初めての学習は喜んで欲しいので正解率が100%近くになるように工夫しました。"
   ]
  },
  {
   "cell_type": "markdown",
   "metadata": {},
   "source": [
    "### Appendix\n",
    "### - BatchNormalization, Dropout, RNN, LSTMの低レベルAPI実装\n",
    "### - カスタムOptimizerの実装"
   ]
  },
  {
   "cell_type": "code",
   "execution_count": 52,
   "metadata": {},
   "outputs": [],
   "source": [
    "#Appendixで使うライブラリのimport\n",
    "import torch\n",
    "from torch import nn\n",
    "import torch.nn.functional as F\n",
    "from torch import optim"
   ]
  },
  {
   "cell_type": "markdown",
   "metadata": {},
   "source": [
    "### BatchNormalization, Dropout, RNN, LSTMの低レベルAPI実装"
   ]
  },
  {
   "cell_type": "markdown",
   "metadata": {},
   "source": [
    "BatchNormalizationの実装<br>\n",
    "以下の画像の式に従って計算を行います。<br>\n",
    "![](https://standardfrancis.files.wordpress.com/2015/04/screenshot-from-2015-04-16-133436.png?w=1008)<br>\n",
    "画像元http://static.googleusercontent.com/media/research.google.com/ja//pubs/archive/43442.pdf<br>\n",
    "ただし、上の式において```γとβは学習可能(もしくは学習対象)なパラメーター```であることに注意してパラメーターのモデル構築を行わなければいけません。<br>\n",
    "例えば線形層l1, l2という二つの層があったとき、一つのBN(BatchNormalization)層を(BN,l1,BN,l2)のように用いてはいけません。<br>\n",
    "このBN層ではl1の入力に関してγとβが最適化されてしまっているためです。もし2つの線形層に関してBN層を用いたい場合は<br>BN層をBN1, BN2のように別々に定義を行い、\n",
    "(BN1,l1,BN2,l2)のようにしなければいけません。<br>"
   ]
  },
  {
   "cell_type": "markdown",
   "metadata": {},
   "source": [
    "*実装上の注意\n",
    "- BatchNormalization2dの入力は(batch_size, Channel, Height, Width)を想定しています。<br>\n",
    "- meanとstdの計算において、torch.mean(Tensor, (0,2,3), keepdim = True)のように書きます<br>\n",
    "  これは、Pytorchの公式ドキュメントによると、二つ目の引数はdimensionを指定する引数であり、<br>\n",
    "  (0, 2, 3)の意味は入力されたバッチの画像全体の平均をチャンネルごとに求めるという意味です。<br>\n",
    "  keepdim=Trueにすることで計算の際にブロードキャスト機能を用いても大丈夫なようになっています。"
   ]
  },
  {
   "cell_type": "markdown",
   "metadata": {},
   "source": [
    "torch.mean, torch.stdの使い方にもう少し慣れておきましょう。"
   ]
  },
  {
   "cell_type": "code",
   "execution_count": 53,
   "metadata": {},
   "outputs": [
    {
     "name": "stdout",
     "output_type": "stream",
     "text": [
      "torch.mean(Tensor, (0,2,3),keepdim=True):\n",
      " tensor([[[[0.5019]],\n",
      "\n",
      "         [[0.4995]],\n",
      "\n",
      "         [[0.5032]]]])\n",
      "torch.std(Tensor, (0,2,3),keepdim=True):\n",
      " tensor([[[[0.2894]],\n",
      "\n",
      "         [[0.2891]],\n",
      "\n",
      "         [[0.2877]]]])\n"
     ]
    }
   ],
   "source": [
    "#入力のサンプル\n",
    "x = torch.rand(32, 3 ,28, 28)\n",
    "print(\"torch.mean(Tensor, (0,2,3),keepdim=True):\\n\", torch.mean(x, (0,2,3),keepdim=True))\n",
    "print(\"torch.std(Tensor, (0,2,3),keepdim=True):\\n\", torch.std(x, (0,2,3),keepdim=True))"
   ]
  },
  {
   "cell_type": "markdown",
   "metadata": {},
   "source": [
    "BatchNormalizationの実装"
   ]
  },
  {
   "cell_type": "code",
   "execution_count": 54,
   "metadata": {},
   "outputs": [],
   "source": [
    "class BatchNormalization2d(nn.Module):\n",
    "    def __init__(self, shape, epsilon = 1e-10):\n",
    "        super().__init__()\n",
    "        self.gamma = nn.Parameter(torch.ones(shape).float())\n",
    "        self.beta = nn.Parameter(torch.zeros(shape).float())\n",
    "        self.epsilon = epsilon\n",
    "    def forward(self,x):\n",
    "        mean_x = torch.mean(x, (0,2,3), keepdim=True)\n",
    "        std_x = torch.std(x, (0,2,3), keepdim=True)\n",
    "        normalized_x = (x - mean_x) / torch.sqrt(std_x**2+self.epsilon)\n",
    "        return self.gamma * normalized_x + self.beta"
   ]
  },
  {
   "cell_type": "markdown",
   "metadata": {},
   "source": [
    "Dropoutの実装"
   ]
  },
  {
   "cell_type": "markdown",
   "metadata": {},
   "source": [
    "- 過学習を抑制するためのレイヤーの一つです。\n",
    "- Dropoutは特定のレイヤーの出力を学習時にある確率`dropout_ratio`で0にすることで、データが欠損しても正しく認識ができるようにします。<br>これはモデルのロバスト性の向上に寄与します。<br>\n",
    "- 学習時は確率`dropout_ratio`で0にしたレイヤーを用いて学習を進めますが、推論時には全てのレイヤーの変数を使うため、<br>\n",
    "値の調整のために出力値には1 - dropout_ratioを乗算します。<br>\n",
    "- また、そのためにはレイヤーに訓練モードと推論モードを切り替える機能をつける必要があります。<br>これはnn.Moduleを継承することで実現できます。\n",
    "  nn.Moduleを継承したあとはself.trainingというattributeが追加されており、<br>これにより訓練モードか推論モードかを識別することができます。<br>\n",
    "  切り替える際は、trainメソッドやevalメソッドで切り替えることができます。<br>\n",
    "  詳しくは公式ドキュメントをご覧ください。https://pytorch.org/docs/stable/generated/torch.nn.Module.html"
   ]
  },
  {
   "cell_type": "markdown",
   "metadata": {},
   "source": [
    "\n",
    "<img src=\"https://production-media.paperswithcode.com/methods/Screen_Shot_2020-05-23_at_6.19.24_PM.png\" alt=\"\" width=\"50%\" height=\"50%\">"
   ]
  },
  {
   "cell_type": "markdown",
   "metadata": {},
   "source": [
    "Dropoutの実装"
   ]
  },
  {
   "cell_type": "code",
   "execution_count": 55,
   "metadata": {},
   "outputs": [],
   "source": [
    "class Dropout(nn.Module):\n",
    "    def __init__(self, dropout_ratio = 0.5) -> None:\n",
    "        super().__init__()\n",
    "        self.dropout_ratio = dropout_ratio\n",
    "    def forward(self, x: torch.Tensor) -> torch.Tensor:\n",
    "        if self.training: #self.trainingは訓練モードと推論モードを識別する変数(bool)\n",
    "            mask = torch.rand(*x.shape) > self.dropout_ratio\n",
    "            return x * mask.to(x.device)\n",
    "        else:\n",
    "            return x * (1 - self.dropout_ratio)"
   ]
  },
  {
   "cell_type": "markdown",
   "metadata": {},
   "source": [
    "Dropout実行例"
   ]
  },
  {
   "cell_type": "code",
   "execution_count": 56,
   "metadata": {},
   "outputs": [
    {
     "name": "stdout",
     "output_type": "stream",
     "text": [
      "計算元のテンソル: \n",
      " tensor([[[[0.9262, 0.9456, 0.8017, 0.1791, 0.1094],\n",
      "          [0.5887, 0.9673, 0.2296, 0.9485, 0.0955],\n",
      "          [0.2466, 0.0342, 0.7073, 0.6685, 0.1365],\n",
      "          [0.3560, 0.0707, 0.9101, 0.3922, 0.6371],\n",
      "          [0.0169, 0.4367, 0.4341, 0.9345, 0.6618]]]])\n",
      "訓練モードの場合の出力: \n",
      " tensor([[[[0.9262, 0.9456, 0.8017, 0.1791, 0.0000],\n",
      "          [0.5887, 0.9673, 0.0000, 0.0000, 0.0955],\n",
      "          [0.0000, 0.0000, 0.7073, 0.0000, 0.0000],\n",
      "          [0.3560, 0.0000, 0.0000, 0.3922, 0.0000],\n",
      "          [0.0169, 0.0000, 0.4341, 0.0000, 0.0000]]]])\n",
      "推論モードの場合の出力: \n",
      " tensor([[[[0.4631, 0.4728, 0.4008, 0.0895, 0.0547],\n",
      "          [0.2943, 0.4837, 0.1148, 0.4742, 0.0477],\n",
      "          [0.1233, 0.0171, 0.3537, 0.3343, 0.0683],\n",
      "          [0.1780, 0.0353, 0.4551, 0.1961, 0.3185],\n",
      "          [0.0085, 0.2183, 0.2171, 0.4673, 0.3309]]]])\n"
     ]
    }
   ],
   "source": [
    "dropout = Dropout(dropout_ratio=0.5)\n",
    "x = torch.rand(1, 1, 5, 5)\n",
    "print(\"計算元のテンソル: \\n\", x)\n",
    "print(\"訓練モードの場合の出力: \\n\", dropout(x))\n",
    "dropout.eval() #推論モードに移行\n",
    "print(\"推論モードの場合の出力: \\n\", dropout(x))"
   ]
  },
  {
   "cell_type": "markdown",
   "metadata": {},
   "source": [
    "RNNの実装"
   ]
  },
  {
   "cell_type": "markdown",
   "metadata": {},
   "source": [
    "RNNを実装する前に簡単なRNNの解説を行います。<br>\n",
    "RNNは系列データを扱うモデルである。<br>\n",
    "系列データとはデータの並び方に重要性があるデータである。<br>\n",
    "例えば株価の変化は時間と共に変動していくため、順序を入れ替えて処理をしてはならないし、<br>\n",
    "自然言語は文脈というものがあるので、順序を入れ替えて処理をしてはいけない。といったふうなものが系列データの例になります<br>\n",
    "RNNはこの前の状態からの影響を再帰的に行列演算する形で表現しています。<br>"
   ]
  },
  {
   "cell_type": "markdown",
   "metadata": {},
   "source": [
    "時刻$t$における入力を$x^{(t)}$、隠れ層を$h^{(t)}$, 出力を$o^{(t)}$とすると、<br>\n",
    "下の例はRNNの隠れ層から隠れ層への再帰を行うRNNになります。<br>\n",
    "他にも出力から隠れ層までの再帰、出力から出力までの再帰を行うRNNのアーキテクチャもあります。<br>"
   ]
  },
  {
   "cell_type": "markdown",
   "metadata": {},
   "source": [
    "<img src = \"https://upload.wikimedia.org/wikipedia/commons/thumb/b/b5/Recurrent_neural_network_unfold.svg/440px-Recurrent_neural_network_unfold.svg.png\" height = \"100%\" width = \"100%\">"
   ]
  },
  {
   "cell_type": "markdown",
   "metadata": {},
   "source": [
    "上の図の隠れ層から隠れ層までの再帰を行うRNNをもう少し数式的に理解を試みます。<br>\n",
    "$σ_{h}, σ_{o}$を隠れ層、出力の活性化関数, $b_{h}, b_{o}$を隠れ層、出力のバイアスベクトルとし、$W, V, U$を上の図の行列とすると、<br>\n",
    "時刻$t$における隠れ層と出力は以下のように計算できます。<br>\n",
    "$$\n",
    "h^{(t)} = σ_{h}(Vh^{(t-1)}+Ux^{(t)}+b_{h}) \\\\\n",
    "o^{(t)} = σ_{o}(Wh^{(t)}+b_{o})\n",
    "$$"
   ]
  },
  {
   "cell_type": "markdown",
   "metadata": {},
   "source": [
    "理論的にはこの式で問題ないのですが、実装上は、<br>\n",
    "(batch_size, sequence_length, num_features)といった感じで、2次元目に系列長、3次元目に変数の数が追加されるため、<br>\n",
    "実際は、\n",
    "$$\n",
    "h^{(t)} = σ_{h}(h^{(t-1)}V^{T}+x^{(t)}U^{T}+b_{h}) \\\\\n",
    "o^{(t)} = σ_{o}(h^{(t)}W^{T}+b_{o})\n",
    "$$\n",
    "が計算されています。"
   ]
  },
  {
   "cell_type": "markdown",
   "metadata": {},
   "source": [
    "公式ドキュメントによると、内部では\n",
    "$$\n",
    "h^{(t)} =  σ_{h}(h^{(t-1)}{W_{hh}}^{T}+x^{(t)}{W_{ih}}^{T}+b_{ih}++b_{hh})\n",
    "$$\n",
    "のように計算されています。"
   ]
  },
  {
   "cell_type": "markdown",
   "metadata": {},
   "source": [
    "このことを上位API torch.nn.RNNを用いて確かめます。<br>\n",
    "上位APIのRNNの引数の意味は<br>\n",
    "<br>\n",
    "input_size: 入力$x^{(t)}$の変数数<br>\n",
    "hidden_size: 隠れ層$h^{(t)}$の変数数<br>\n",
    "num_layers: 再帰層の数<br>\n",
    "batch_first: Trueだと入力は(batch, seq, feature)として扱われ、Falseだと(seq, batch, feature)として扱われる。<br>\n",
    "<br>\n",
    "また、デフォルトでの活性化関数はtanhとなっております。<br>\n",
    "nn.RNN.forwardの出力は出力系列yと、最終状態hとなっています。"
   ]
  },
  {
   "cell_type": "code",
   "execution_count": 57,
   "metadata": {},
   "outputs": [],
   "source": [
    "x = torch.rand(1, 3, 5).float()\n",
    "rnn = nn.RNN(input_size = 5, hidden_size = 5, batch_first = True)\n",
    "Wih = rnn.weight_ih_l0.data\n",
    "Whh = rnn.weight_hh_l0.data\n",
    "bih = rnn.bias_ih_l0.data\n",
    "bhh = rnn.bias_hh_l0.data"
   ]
  },
  {
   "cell_type": "code",
   "execution_count": 58,
   "metadata": {},
   "outputs": [
    {
     "name": "stdout",
     "output_type": "stream",
     "text": [
      "nn.RNNの出力: \n",
      " tensor([[[ 0.5247, -0.4095, -0.0820, -0.4619,  0.2461],\n",
      "         [ 0.3221, -0.7121, -0.4102, -0.3323, -0.1252],\n",
      "         [-0.0465, -0.6660, -0.1830, -0.3196, -0.1323]]],\n",
      "       grad_fn=<TransposeBackward1>)\n"
     ]
    }
   ],
   "source": [
    "print(\"nn.RNNの出力: \\n\", rnn(x)[0])"
   ]
  },
  {
   "cell_type": "code",
   "execution_count": 59,
   "metadata": {},
   "outputs": [
    {
     "name": "stdout",
     "output_type": "stream",
     "text": [
      "time t = 0\n",
      "隠れ層h: tensor([ 0.5247, -0.4095, -0.0820, -0.4619,  0.2461])\n",
      "time t = 1\n",
      "隠れ層h: tensor([ 0.3221, -0.7121, -0.4102, -0.3323, -0.1252])\n",
      "time t = 2\n",
      "隠れ層h: tensor([-0.0465, -0.6660, -0.1830, -0.3196, -0.1323])\n"
     ]
    }
   ],
   "source": [
    "for t in range(3):\n",
    "    print(f\"time t = {t}\")\n",
    "    x_t = x[0][t]\n",
    "    if t == 0:\n",
    "        h_t = torch.zeros_like(x_t)\n",
    "    h_t = torch.tanh(x_t @ Wih.transpose(0,1) + h_t @ Whh.transpose(0,1) + bih + bhh)\n",
    "    print(\"隠れ層h:\", h_t)"
   ]
  },
  {
   "cell_type": "markdown",
   "metadata": {},
   "source": [
    "各tにおける隠れ層の値がnn.RNNの0行目, 1行目, 2行目に当たることが確認できたと思います。"
   ]
  },
  {
   "cell_type": "markdown",
   "metadata": {},
   "source": [
    "RNNの実装<br>\n",
    "今回は簡単のため、input_size, hidden_size, batch_firstをinitの引数とする1層のSimpleRNNを実装します。<br>\n",
    "本来のnn.RNNは他の引数もあります。是非公式ドキュメントをご覧ください。<br>"
   ]
  },
  {
   "cell_type": "code",
   "execution_count": 60,
   "metadata": {},
   "outputs": [],
   "source": [
    "class SimpleRNN(nn.Module):\n",
    "    def __init__(self, input_size, hidden_size, batch_first = False)->None:\n",
    "        \"\"\"\n",
    "        input_size: 入力x^{t}の変数数\n",
    "        hidden_size: 隠れ層h^{t}の変数数\n",
    "        num_layers: 再帰層の数\n",
    "        batch_first: Trueだと入力は(batch, seq, feature)として扱われ、Falseだと(seq, batch, feature)として扱われる。\n",
    "        \"\"\"\n",
    "        \"\"\"\n",
    "        公式ドキュメントにのっとり、weight, bias共にk = 1/hidden_sizeとした時、Uniform(-sqrt(k), sqrt(k))で初期化する。\n",
    "        \"\"\"\n",
    "        super().__init__()\n",
    "        k = 1 / hidden_size\n",
    "        self.weight_ih_l0 = nn.Parameter(torch.Tensor(np.random.uniform(low = -np.sqrt(k), high = np.sqrt(k)\\\n",
    "            , size = (hidden_size, input_size))).float())\n",
    "        self.weight_hh_l0 = nn.Parameter(torch.Tensor(np.random.uniform(low = -np.sqrt(k), high = np.sqrt(k)\\\n",
    "            , size = (hidden_size, hidden_size))).float())\n",
    "        self.bias_ih_l0 = nn.Parameter(torch.Tensor(np.random.uniform(low = -np.sqrt(k), high = np.sqrt(k)\\\n",
    "            , size = (hidden_size))).float())\n",
    "        self.bias_hh_l0 = nn.Parameter(torch.Tensor(np.random.uniform(low = -np.sqrt(k), high = np.sqrt(k)\\\n",
    "            , size = (hidden_size))).float())\n",
    "        self.batch_first = batch_first\n",
    "        self.hidden_size = hidden_size\n",
    "        self.input_size = input_size\n",
    "    def forward(self, x: torch.Tensor, h0: torch.Tensor = None) -> torch.Tensor:\n",
    "        \"\"\"\n",
    "        実装上の注意点\n",
    "        h0がNoneなら系列の始めは隠れ層の値が0であることに注意すること\n",
    "        出力の形状に気をつけること今回はtorch.catで配列を結合し、unsqueezeメソッドなどを用いて次元を調整している。\n",
    "        同じ時間のものは計算に使う行列は共通のため、行列演算を用いて計算を早くしている。2重でforループを回すと遅い\n",
    "        \"\"\"\n",
    "        if not self.batch_first:\n",
    "            #(seq, batch, feature)->(batch, seq, feature)へ\n",
    "            x = x.transpose(0,1)\n",
    "        sequence_length = x.size(1)\n",
    "        batch_size = x.size(0)\n",
    "        output_all = torch.empty(size = (batch_size, 0, self.input_size)).to(x.device)\n",
    "        final_hidden_state = torch.empty(size = (0 , self.input_size)).to(x.device)\n",
    "        if h0 == None:\n",
    "            h_t = torch.zeros_like(x[:,0,:]).to(x.device)\n",
    "        else:\n",
    "            h_t = h0.to(x.device)\n",
    "        for t in range(sequence_length):\n",
    "            h_t = torch.tanh(x[:,t,:] @ self.weight_ih_l0.transpose(0,1) + \\\n",
    "                h_t @ self.weight_hh_l0.transpose(0,1) + self.bias_hh_l0 + self.bias_ih_l0)\n",
    "            if t != 0:\n",
    "                output_all = torch.cat([output_all, h_t.reshape(-1,1,self.input_size)],dim = 1)\n",
    "            else:\n",
    "                output_all = h_t.reshape(-1,1,self.input_size)\n",
    "            #final_hidden_state = torch.cat([final_hidden_state, output[-1].unsqueeze(0)])\n",
    "        if not self.batch_first:\n",
    "            return output_all.transpose(0,1), output_all[:,-1,:].unsqueeze(0)\n",
    "        return output_all, output_all[:,-1,:].unsqueeze(0)"
   ]
  },
  {
   "cell_type": "markdown",
   "metadata": {},
   "source": [
    "出力があっているか一応確認しておきましょう。"
   ]
  },
  {
   "cell_type": "code",
   "execution_count": 61,
   "metadata": {},
   "outputs": [],
   "source": [
    "#テストデータ\n",
    "x = torch.rand(3, 4, 5).float()\n",
    "simplernn = SimpleRNN(input_size = 5, hidden_size = 5, batch_first = True)\n",
    "rnn = nn.RNN(input_size = 5, hidden_size = 5, batch_first = True)\n",
    "#使う重みを等しくする\n",
    "simplernn.weight_ih_l0 = rnn.weight_ih_l0\n",
    "simplernn.weight_hh_l0 = rnn.weight_hh_l0\n",
    "simplernn.bias_ih_l0 = rnn.bias_ih_l0\n",
    "simplernn.bias_hh_l0 = rnn.bias_hh_l0"
   ]
  },
  {
   "cell_type": "code",
   "execution_count": 62,
   "metadata": {},
   "outputs": [
    {
     "name": "stdout",
     "output_type": "stream",
     "text": [
      "SimpleRNNの自前実装: \n",
      "出力系列y: \n",
      "tensor([[[-0.5359,  0.1395,  0.1925, -0.0780, -0.1734],\n",
      "         [-0.5639, -0.2767,  0.1205,  0.1259,  0.3919],\n",
      "         [-0.6944,  0.2234,  0.5389,  0.0120, -0.2438],\n",
      "         [-0.6712, -0.2667, -0.1013,  0.2526, -0.0389]],\n",
      "\n",
      "        [[-0.4195, -0.0752,  0.0493, -0.0680,  0.1195],\n",
      "         [-0.4027, -0.0755, -0.1106, -0.2566, -0.1473],\n",
      "         [-0.3427, -0.0581, -0.0503, -0.1410, -0.0747],\n",
      "         [-0.4043,  0.0552, -0.1264,  0.1327, -0.1024]],\n",
      "\n",
      "        [[-0.3435, -0.0501, -0.0369, -0.2350,  0.0898],\n",
      "         [-0.5118,  0.1574,  0.0233, -0.0241,  0.0725],\n",
      "         [-0.6236, -0.0572,  0.2670, -0.0617, -0.0087],\n",
      "         [-0.4173, -0.2909,  0.0147,  0.1253, -0.1422]]],\n",
      "       grad_fn=<CatBackward0>)\n",
      "最終状態h: \n",
      "tensor([[[-0.6712, -0.2667, -0.1013,  0.2526, -0.0389],\n",
      "         [-0.4043,  0.0552, -0.1264,  0.1327, -0.1024],\n",
      "         [-0.4173, -0.2909,  0.0147,  0.1253, -0.1422]]],\n",
      "       grad_fn=<UnsqueezeBackward0>)\n",
      "SimpleRNNの出力の形状: \n",
      "出力系列y: \n",
      "torch.Size([3, 4, 5])\n",
      "最終状態h: \n",
      "torch.Size([1, 3, 5])\n"
     ]
    }
   ],
   "source": [
    "print(f\"SimpleRNNの自前実装: \\n出力系列y: \\n{simplernn(x)[0]}\\n最終状態h: \\n{simplernn(x)[1]}\")\n",
    "print(f\"SimpleRNNの出力の形状: \\n出力系列y: \\n{simplernn(x)[0].shape}\\n最終状態h: \\n{simplernn(x)[1].shape}\")"
   ]
  },
  {
   "cell_type": "code",
   "execution_count": 63,
   "metadata": {},
   "outputs": [
    {
     "name": "stdout",
     "output_type": "stream",
     "text": [
      "nn.RNN: \n",
      "出力系列y: \n",
      "tensor([[[-0.5359,  0.1395,  0.1925, -0.0780, -0.1734],\n",
      "         [-0.5639, -0.2767,  0.1205,  0.1259,  0.3919],\n",
      "         [-0.6944,  0.2234,  0.5389,  0.0120, -0.2438],\n",
      "         [-0.6712, -0.2667, -0.1013,  0.2526, -0.0389]],\n",
      "\n",
      "        [[-0.4195, -0.0752,  0.0493, -0.0680,  0.1195],\n",
      "         [-0.4027, -0.0755, -0.1106, -0.2566, -0.1473],\n",
      "         [-0.3427, -0.0581, -0.0503, -0.1410, -0.0747],\n",
      "         [-0.4043,  0.0552, -0.1264,  0.1327, -0.1024]],\n",
      "\n",
      "        [[-0.3435, -0.0501, -0.0369, -0.2350,  0.0898],\n",
      "         [-0.5118,  0.1574,  0.0233, -0.0241,  0.0725],\n",
      "         [-0.6236, -0.0572,  0.2670, -0.0617, -0.0087],\n",
      "         [-0.4173, -0.2909,  0.0147,  0.1253, -0.1422]]],\n",
      "       grad_fn=<TransposeBackward1>)\n",
      "最終状態h: \n",
      "tensor([[[-0.6712, -0.2667, -0.1013,  0.2526, -0.0389],\n",
      "         [-0.4043,  0.0552, -0.1264,  0.1327, -0.1024],\n",
      "         [-0.4173, -0.2909,  0.0147,  0.1253, -0.1422]]],\n",
      "       grad_fn=<StackBackward0>)\n",
      "nn.RNNの出力の形状: \n",
      "出力系列y: \n",
      "torch.Size([3, 4, 5])\n",
      "最終状態h: \n",
      "torch.Size([1, 3, 5])\n"
     ]
    }
   ],
   "source": [
    "print(f\"nn.RNN: \\n出力系列y: \\n{rnn(x)[0]}\\n最終状態h: \\n{rnn(x)[1]}\")\n",
    "print(f\"nn.RNNの出力の形状: \\n出力系列y: \\n{rnn(x)[0].shape}\\n最終状態h: \\n{rnn(x)[1].shape}\")"
   ]
  },
  {
   "cell_type": "markdown",
   "metadata": {},
   "source": [
    "出力の値と形状は同じになっていることがわかりました。しかし、grad_fnの表示が異なっているため、本当にカスタムなモデルを制作しない限りはnn.RNNを使った方が良さそうです。"
   ]
  },
  {
   "cell_type": "markdown",
   "metadata": {},
   "source": [
    "LSTMの実装"
   ]
  },
  {
   "cell_type": "markdown",
   "metadata": {},
   "source": [
    "LSTMの実装の際も、RNNの実装と同じように内部ではどうなっているのかを理解しながら組んでいこうと思います。<br>\n",
    "一度RNNを組めてしまえばRNNに行列演算が少し追加された程度なので大丈夫なはずです。<br>"
   ]
  },
  {
   "cell_type": "markdown",
   "metadata": {},
   "source": [
    "<img src = \"https://production-media.paperswithcode.com/methods/1_PJ5atpFStpNWE_XpB4e8qQ.png\">"
   ]
  },
  {
   "cell_type": "markdown",
   "metadata": {},
   "source": [
    "上の画像によると、LSTMは入力$x_{t}$, $c_{t-1}$, $h_{t-1}$を受け取って$c_{t}, h_{t}$を出力するものであるとわかる。<br>\n",
    "$c_{t}, h_{t}$はinput $i_{t}$, forget $f_{t}$, cell $g_{t}$ output $o_{t}$を用いて次のように計算される。<br>"
   ]
  },
  {
   "cell_type": "markdown",
   "metadata": {},
   "source": [
    "$$\n",
    "i_{t} = \\text{sigmoid}(W_{ii}x_{t}+b_{ii}+W_{hi}h_{t-1}+b_{hi}) \\\\\n",
    "f_{t} = \\text{sigmoid}(W_{if}x_{t}+b_{if}+W_{hf}h_{t-1}+b_{hf}) \\\\\n",
    "g_{t} = \\tanh(W_{ig}x_{t}+b_{ig}+W_{hg}h_{t-1}+b_{hg}) \\\\\n",
    "o_{t} = \\text{sigmoid}(W_{io}x_{t}+b_{io}+W_{ho}h_{t-1}+b_{ho}) \\\\\n",
    "c_{t} = f_{t} \\odot c_{t-1} + i_{t} \\odot g_{t} \\\\\n",
    "h_{t} = o_{t} \\odot \\tanh(c_{t}) \\\\\n",
    "$$"
   ]
  },
  {
   "cell_type": "markdown",
   "metadata": {},
   "source": [
    "これを1 epoch分計算してみよう。"
   ]
  },
  {
   "cell_type": "markdown",
   "metadata": {},
   "source": [
    "Pytorchでは例によって工夫がなされている。\n",
    "例えば、$x_{t}$が計算に使われるような行列を<br>$W_{ih} \\in M_{4hidden\\_size \\times input\\_size}$としてまとめて、\n",
    "$h_{t}$が計算に使われるような行列を$W_{hh}  \\in M_{4hidden\\_size \\times input\\_size} $としてまとめ、<br>\n",
    "それぞれのバイアスベクトルを$b_{ih}, b_{hh}$としてまとめた上で、まずは以下の量で定義される$z_{t}$を計算する。\n",
    "\n",
    "$$\n",
    "z_{t} = x_{t}W_{ih}^{T} + h_{t}W_{hh}^{T} + b_{ih} + b_{hh}\n",
    "$$\n",
    "$z_{t}$をもとめたあと、各量は以下の通りに計算される\n",
    "$$\n",
    "i_{t} = \\text{sigmoid}(z_t[:,:\\text{hidden\\_size}]) \\\\\n",
    "f_{t} = \\text{sigmoid}(z_t[:,\\text{hidden\\_size:2hidden\\_size}]) \\\\\n",
    "g_{t} = \\tanh(z_t[:,\\text{2hidden\\_size:3hidden\\_size}]) \\\\\n",
    "o_{t} = \\text{sigmoid}(z_t[:,\\text{3hidden\\_size:}]) \\\\\n",
    "c_{t} = f_{t} \\odot c_{t-1} + i_{t} \\odot g_{t} \\\\\n",
    "h_{t} = o_{t} \\odot \\tanh(c_{t}) \\\\\n",
    "$$"
   ]
  },
  {
   "cell_type": "markdown",
   "metadata": {},
   "source": [
    "$z_t$は何度も同じような計算をするところを、まとめて行ってくれているものである。\n",
    "このことを実際に確かめてみよう"
   ]
  },
  {
   "cell_type": "code",
   "execution_count": 64,
   "metadata": {},
   "outputs": [],
   "source": [
    "import torch\n",
    "import numpy as np\n",
    "from torch import nn\n",
    "x = torch.rand(2, 3, 5)\n",
    "lstm = nn.LSTM(input_size = 5, hidden_size = 5, batch_first = True)\n",
    "w_ih = lstm.weight_ih_l0\n",
    "w_hh = lstm.weight_hh_l0\n",
    "b_ih = lstm.bias_ih_l0\n",
    "b_hh = lstm.bias_hh_l0"
   ]
  },
  {
   "cell_type": "code",
   "execution_count": 65,
   "metadata": {},
   "outputs": [
    {
     "name": "stdout",
     "output_type": "stream",
     "text": [
      "nn.LSTMの出力: h_t:\n",
      "tensor([[[ 0.1013, -0.0203, -0.0525, -0.1826,  0.0234],\n",
      "         [ 0.1901, -0.0321, -0.1151, -0.3402,  0.0035],\n",
      "         [ 0.1672,  0.0201, -0.0789, -0.3275,  0.0392]],\n",
      "\n",
      "        [[ 0.1491, -0.0142, -0.0573, -0.2293,  0.0136],\n",
      "         [ 0.2079, -0.0294, -0.1400, -0.4399,  0.0174],\n",
      "         [ 0.2198, -0.0008, -0.1502, -0.4850,  0.0105]]],\n",
      "       grad_fn=<TransposeBackward0>)\n",
      "Last h_t and c_n:\n",
      "(tensor([[[ 0.1672,  0.0201, -0.0789, -0.3275,  0.0392],\n",
      "         [ 0.2198, -0.0008, -0.1502, -0.4850,  0.0105]]],\n",
      "       grad_fn=<StackBackward0>), tensor([[[ 0.4408,  0.0427, -0.1741, -0.5500,  0.0953],\n",
      "         [ 0.4996, -0.0016, -0.3665, -0.9227,  0.0260]]],\n",
      "       grad_fn=<StackBackward0>))\n"
     ]
    }
   ],
   "source": [
    "print(f\"nn.LSTMの出力: h_t:\\n{lstm(x)[0]}\\nLast h_t and c_n:\\n{lstm(x)[1]}\")"
   ]
  },
  {
   "cell_type": "code",
   "execution_count": 66,
   "metadata": {},
   "outputs": [
    {
     "name": "stdout",
     "output_type": "stream",
     "text": [
      "time: 0: \n",
      "h_t:\n",
      "tensor([[ 0.1013, -0.0203, -0.0525, -0.1826,  0.0234],\n",
      "        [ 0.1491, -0.0142, -0.0573, -0.2293,  0.0136]], grad_fn=<MulBackward0>)\n",
      "c_t:\n",
      "tensor([[ 0.2525, -0.0467, -0.1169, -0.2803,  0.0499],\n",
      "        [ 0.3685, -0.0286, -0.1292, -0.3608,  0.0313]], grad_fn=<AddBackward0>)\n",
      "time: 1: \n",
      "h_t:\n",
      "tensor([[ 0.1901, -0.0321, -0.1151, -0.3402,  0.0035],\n",
      "        [ 0.2079, -0.0294, -0.1400, -0.4399,  0.0174]], grad_fn=<MulBackward0>)\n",
      "c_t:\n",
      "tensor([[ 0.4288, -0.0628, -0.2823, -0.5099,  0.0082],\n",
      "        [ 0.4662, -0.0631, -0.3319, -0.7277,  0.0393]], grad_fn=<AddBackward0>)\n",
      "time: 2: \n",
      "h_t:\n",
      "tensor([[ 0.1672,  0.0201, -0.0789, -0.3275,  0.0392],\n",
      "        [ 0.2198, -0.0008, -0.1502, -0.4850,  0.0105]], grad_fn=<MulBackward0>)\n",
      "c_t:\n",
      "tensor([[ 0.4408,  0.0427, -0.1741, -0.5500,  0.0953],\n",
      "        [ 0.4996, -0.0016, -0.3665, -0.9227,  0.0260]], grad_fn=<AddBackward0>)\n"
     ]
    }
   ],
   "source": [
    "hidden_size = 5\n",
    "for t in range(3):\n",
    "    x_t = x[:,t,:]\n",
    "    if t == 0:\n",
    "        h_t = torch.zeros_like(x_t)\n",
    "        c_t = torch.zeros_like(x_t)\n",
    "    z_t = x_t @ w_ih.transpose(0,1) + h_t @ w_hh.transpose(0,1) + b_ih + b_hh\n",
    "    #W_ii|W_if|W_ig|W_io\n",
    "    i_t = torch.sigmoid(z_t[:,:hidden_size])\n",
    "    f_t = torch.sigmoid(z_t[:,hidden_size:2*hidden_size])\n",
    "    g_t = torch.tanh(z_t[:,2*hidden_size:3*hidden_size])\n",
    "    o_t = torch.sigmoid(z_t[:,3*hidden_size:])\n",
    "    c_t = f_t * c_t + i_t * g_t\n",
    "    h_t = o_t * torch.tanh(c_t)\n",
    "    print(f\"time: {t}: \\nh_t:\\n{h_t}\\nc_t:\\n{c_t}\")"
   ]
  },
  {
   "cell_type": "markdown",
   "metadata": {},
   "source": [
    "実際に確かめられたら、あとはRNNのように実装するだけである。\n"
   ]
  },
  {
   "cell_type": "markdown",
   "metadata": {},
   "source": [
    "LSTMの実装<br>\n",
    "今回も簡単のため、input_size, hidden_size, batch_firstをinitの引数とする1層のSimpleLSTMを実装します。<br>\n",
    "本来のnn.LSTMは他の引数もあります。是非公式ドキュメントをご覧ください。<br>"
   ]
  },
  {
   "cell_type": "code",
   "execution_count": 67,
   "metadata": {},
   "outputs": [],
   "source": [
    "class SimpleLSTM(nn.Module):\n",
    "    def __init__(self, input_size, hidden_size, batch_first = False)->None:\n",
    "        \"\"\"\n",
    "        input_size: 入力x^{t}の変数数\n",
    "        hidden_size: 隠れ層h^{t}の変数数\n",
    "        num_layers: 再帰層の数\n",
    "        batch_first: Trueだと入力は(batch, seq, feature)として扱われ、Falseだと(seq, batch, feature)として扱われる。\n",
    "        \"\"\"\n",
    "        \"\"\"\n",
    "        公式ドキュメントにのっとり、weight, bias共にk = 1/hidden_sizeとした時、Uniform(-sqrt(k), sqrt(k))で初期化する。\n",
    "        \"\"\"\n",
    "        super().__init__()\n",
    "        k = 1 / hidden_size\n",
    "        self.weight_ih_l0 = nn.Parameter(torch.Tensor(np.random.uniform(low = -np.sqrt(k), high = np.sqrt(k)\\\n",
    "            , size = (4*hidden_size, input_size))).float())\n",
    "        self.weight_hh_l0 = nn.Parameter(torch.Tensor(np.random.uniform(low = -np.sqrt(k), high = np.sqrt(k)\\\n",
    "            , size = (4*hidden_size, hidden_size))).float())\n",
    "        self.bias_ih_l0 = nn.Parameter(torch.Tensor(np.random.uniform(low = -np.sqrt(k), high = np.sqrt(k)\\\n",
    "            , size = (4*hidden_size))).float())\n",
    "        self.bias_hh_l0 = nn.Parameter(torch.Tensor(np.random.uniform(low = -np.sqrt(k), high = np.sqrt(k)\\\n",
    "            , size = (4*hidden_size))).float())\n",
    "        self.batch_first = batch_first\n",
    "        self.hidden_size = hidden_size\n",
    "        self.input_size = input_size\n",
    "    def forward(self, x: torch.Tensor, h0: torch.Tensor = None, c0: torch.Tensor = None) -> torch.Tensor:\n",
    "        \"\"\"\n",
    "        実装上の注意点\n",
    "        h0がNoneなら系列の始めは隠れ層の値が0であることに注意すること\n",
    "        出力の形状に気をつけること今回はtorch.catで配列を結合し、unsqueezeメソッドなどを用いて次元を調整している。\n",
    "        同じ時間のものは計算に使う行列は共通のため、行列演算を用いて計算を早くしている。2重でforループを回すと遅い\n",
    "        \"\"\"\n",
    "        if not self.batch_first:\n",
    "            #(seq, batch, feature)->(batch, seq, feature)へ\n",
    "            x = x.transpose(0,1)\n",
    "        sequence_length = x.size(1)\n",
    "        batch_size = x.size(0)\n",
    "        output_all = torch.empty(size = (batch_size, 0, self.input_size)).to(x.device)\n",
    "        if h0 == None and c0 == None:\n",
    "            h_t = torch.zeros_like(x[:,0,:]).to(x.device)\n",
    "            c_t = torch.zeros_like(x[:,0,:]).to(x.device)\n",
    "        elif h0 == None:\n",
    "            c_t = c0.to(x.device)\n",
    "        elif c0 == None:\n",
    "            h_t = h0.to(x.device)\n",
    "        else:\n",
    "            h_t = h0.to(x.device)\n",
    "            c_t = c0.to(x.device)\n",
    "        for t in range(sequence_length):\n",
    "            x_t = x[:,t,:]\n",
    "            z_t = x_t @ self.weight_ih_l0.transpose(0,1) + h_t @ self.weight_hh_l0.transpose(0,1) + self.bias_ih_l0 + self.bias_hh_l0\n",
    "            i_t = torch.sigmoid(z_t[:,:self.hidden_size])\n",
    "            f_t = torch.sigmoid(z_t[:,self.hidden_size:2*self.hidden_size])\n",
    "            g_t = torch.tanh(z_t[:,2*self.hidden_size:3*self.hidden_size])\n",
    "            o_t = torch.sigmoid(z_t[:,3*self.hidden_size:])\n",
    "            c_t = f_t * c_t + i_t * g_t\n",
    "            h_t = o_t * torch.tanh(c_t)\n",
    "            if t != 0:\n",
    "                output_all = torch.cat([output_all, h_t.reshape(-1,1,self.input_size)],dim = 1)\n",
    "            else:\n",
    "                output_all = h_t.reshape(-1,1,self.input_size)\n",
    "            #final_hidden_state = torch.cat([final_hidden_state, output[-1].unsqueeze(0)])\n",
    "        if not self.batch_first:\n",
    "            return output_all.transpose(0,1), (output_all[:,-1,:].unsqueeze(0), c_t.unsqueeze(0))\n",
    "        return output_all, (output_all[:,-1,:].unsqueeze(0), c_t.unsqueeze(0))"
   ]
  },
  {
   "cell_type": "markdown",
   "metadata": {},
   "source": [
    "うまく動作するか確かめてみましょう"
   ]
  },
  {
   "cell_type": "code",
   "execution_count": 68,
   "metadata": {},
   "outputs": [],
   "source": [
    "x = torch.rand(2, 3, 5)\n",
    "lstm = nn.LSTM(input_size = 5, hidden_size = 5, batch_first = True)\n",
    "simplelstm = SimpleLSTM(input_size = 5, hidden_size = 5, batch_first = True)\n",
    "simplelstm.weight_ih_l0 = lstm.weight_ih_l0\n",
    "simplelstm.weight_hh_l0 = lstm.weight_hh_l0\n",
    "simplelstm.bias_ih_l0 = lstm.bias_ih_l0\n",
    "simplelstm.bias_hh_l0 = lstm.bias_hh_l0"
   ]
  },
  {
   "cell_type": "code",
   "execution_count": 69,
   "metadata": {},
   "outputs": [
    {
     "name": "stdout",
     "output_type": "stream",
     "text": [
      "SimpleLSTMの自前実装: \n",
      "出力h_t: \n",
      "tensor([[[ 0.1229, -0.0468,  0.2288, -0.1165, -0.1437],\n",
      "         [ 0.0349,  0.0082,  0.2007, -0.0689, -0.1410],\n",
      "         [-0.0237, -0.0277,  0.1989, -0.1140, -0.1539]],\n",
      "\n",
      "        [[ 0.0553, -0.0228,  0.1809, -0.0706, -0.0899],\n",
      "         [ 0.0356,  0.0204,  0.2365, -0.0291, -0.1428],\n",
      "         [ 0.0963,  0.0178,  0.3161, -0.0694, -0.1907]]],\n",
      "       grad_fn=<CatBackward0>)\n",
      "最終状態h_t and c_t: \n",
      "tensor([[[-0.0237, -0.0277,  0.1989, -0.1140, -0.1539],\n",
      "         [ 0.0963,  0.0178,  0.3161, -0.0694, -0.1907]]],\n",
      "       grad_fn=<UnsqueezeBackward0>)\n",
      "tensor([[[-0.0735, -0.0763,  0.4845, -0.1839, -0.2721],\n",
      "         [ 0.2188,  0.0457,  0.5969, -0.1075, -0.2897]]],\n",
      "       grad_fn=<UnsqueezeBackward0>)\n",
      "SimpleLSTMの出力の形状: \n",
      "出力h_t: \n",
      "torch.Size([2, 3, 5])\n",
      "最終状態h_t and c_t: \n",
      "torch.Size([1, 2, 5])\n",
      "torch.Size([1, 2, 5])\n"
     ]
    }
   ],
   "source": [
    "print(f\"SimpleLSTMの自前実装: \\n出力h_t: \\n{simplelstm(x)[0]}\\n最終状態h_t and c_t: \\n{simplelstm(x)[1][0]}\\n{simplelstm(x)[1][1]}\")\n",
    "print(f\"SimpleLSTMの出力の形状: \\n出力h_t: \\n{simplelstm(x)[0].shape}\\n最終状態h_t and c_t: \\n{simplelstm(x)[1][0].shape}\\n{simplelstm(x)[1][1].shape}\")"
   ]
  },
  {
   "cell_type": "code",
   "execution_count": 70,
   "metadata": {},
   "outputs": [
    {
     "name": "stdout",
     "output_type": "stream",
     "text": [
      "nn.LSTMの出力: \n",
      "出力h_t: \n",
      "tensor([[[ 0.1229, -0.0468,  0.2288, -0.1165, -0.1437],\n",
      "         [ 0.0349,  0.0082,  0.2007, -0.0689, -0.1410],\n",
      "         [-0.0237, -0.0277,  0.1989, -0.1140, -0.1539]],\n",
      "\n",
      "        [[ 0.0553, -0.0228,  0.1809, -0.0706, -0.0899],\n",
      "         [ 0.0356,  0.0204,  0.2365, -0.0291, -0.1428],\n",
      "         [ 0.0963,  0.0178,  0.3161, -0.0694, -0.1907]]],\n",
      "       grad_fn=<TransposeBackward0>)\n",
      "最終状態h_t and c_t: \n",
      "tensor([[[-0.0237, -0.0277,  0.1989, -0.1140, -0.1539],\n",
      "         [ 0.0963,  0.0178,  0.3161, -0.0694, -0.1907]]],\n",
      "       grad_fn=<StackBackward0>)\n",
      "tensor([[[-0.0735, -0.0763,  0.4845, -0.1839, -0.2721],\n",
      "         [ 0.2188,  0.0457,  0.5969, -0.1075, -0.2897]]],\n",
      "       grad_fn=<StackBackward0>)\n",
      "nn.LSTMの出力の形状: \n",
      "出力h_t: \n",
      "torch.Size([2, 3, 5])\n",
      "最終状態h_t and c_t: \n",
      "torch.Size([1, 2, 5])\n",
      "torch.Size([1, 2, 5])\n"
     ]
    }
   ],
   "source": [
    "print(f\"nn.LSTMの出力: \\n出力h_t: \\n{lstm(x)[0]}\\n最終状態h_t and c_t: \\n{lstm(x)[1][0]}\\n{lstm(x)[1][1]}\")\n",
    "print(f\"nn.LSTMの出力の形状: \\n出力h_t: \\n{lstm(x)[0].shape}\\n最終状態h_t and c_t: \\n{lstm(x)[1][0].shape}\\n{lstm(x)[1][1].shape}\")"
   ]
  },
  {
   "cell_type": "markdown",
   "metadata": {},
   "source": [
    "##### 以上までで、LSTMの自前実装が完了しました。双方向LSTMなどの実装が残っていることを除けば、\n",
    "##### Attentionのスクラッチ実装まであともう少しです。\n",
    "##### レイヤーの実装の続きはAttention_from_scratch.ipynbで行います。"
   ]
  },
  {
   "cell_type": "markdown",
   "metadata": {},
   "source": [
    "### カスタムOptimizerの実装"
   ]
  },
  {
   "cell_type": "markdown",
   "metadata": {},
   "source": [
    "レイヤーに比べてOptimizerの実装の優先度は低いかもしれませんが、<br>\n",
    "それでも勉強していて新しいOptimizerのアイデアが浮かぶことがあるかもしれません。<br>\n",
    "例えば、Github上で「SAM」などと検索するとSAMと呼ばれるOptimizerの実装を見ることができます。<br>\n",
    "自分でOptimizerを設計したくなった時に困らないようにカスタムOptimizerの実装も解説していきます。<br>\n",
    "カスタムOptimizerは日本語記事がほとんどヒットしません。検索する際は公式ドキュメントや英語検索を行うと良いでしょう。<br>"
   ]
  },
  {
   "cell_type": "markdown",
   "metadata": {},
   "source": [
    "レイヤーの制作の際はnn.Moduleの継承を行いました。Optimizerはtorch.optim.Optimizerの継承を行います。<br>\n",
    "nn.Moduleでは主にinitとforwardのオーバーライドを行いました。optim.optimizerではinitとstepのオーバーライドを行います。<br>\n",
    "- initの引数<br>\n",
    "  ```params```: 最適化するパラメータ-をまとめるもの(iterableでなければならない)、model.parameters()で渡すものだと考えてください。<br>\n",
    "  ```他のパラメーター```: 学習率やOptimizerによっては他のパラメーターがあると思いますが、それにあたります。<br><br>\n",
    "- initの実装上の注意点<br>\n",
    "  initメソッドではパラメータ-が正当なものかを判別する例外処理を書く必要があることもあります。<br>\n",
    "  Optimizerクラスを継承する時にはparamsに加えてlrのなどのパラメーターがまとめられたものを辞書型で渡して継承しなければいけません。<br><br>\n",
    "- stepの引数<br>\n",
    "  ```closure```: Conjugate GradientやLBFGSのような最適化アルゴリズムでは関数を何度も再評価するので必要になるらしいですが、おそらく滅多に使うことはないかと思われます。<br><br>\n",
    "- stepの実装上の注意点<br>\n",
    "  stepを実行した時点でParametersの勾配(grad)は計算されているものとします。<br>計算済みのgradを使って最適化の処理を書くところがstepと考えて良いでしょう。<br>\n",
    "  optimizerが処理するパラメーターはself.param_groupsにOptimizerクラスを継承した際に入れられています。<br>\n",
    "  params_groupsは辞書を要素としたリストであり、モデルのパラメーターを個別の要素に分割する方法を提供します。<br>\n",
    "  例えば、異なる学習率を使用してネットワークの別々のレイヤーをトレーニングする場合などはこれが使われます。<br>\n",
    "  [Pytorchの公式ドキュメント](https://pytorch.org/docs/stable/optim.html)では以下のように使用例があります。<br>\n",
    "  ```\n",
    "  optim.SGD([\n",
    "                {'params': model.base.parameters()},\n",
    "                {'params': model.classifier.parameters(), 'lr': 1e-3}\n",
    "            ], lr=1e-2, momentum=0.9)\n",
    "  ```\n",
    "  <br>\n",
    "  params_groupの要素となっている辞書は, {\"params\":, \"lr\":, \"momentum\":, }のように、<br>\n",
    "  Optimizerの継承の時に使用したパラメーターなどを保存しています。<br>\n",
    "  <br>"
   ]
  },
  {
   "cell_type": "markdown",
   "metadata": {},
   "source": [
    "今回はMomentumSGDの実装を行います。\n",
    "MomentumSGDは以下の式で定義されます。\n",
    "$$\n",
    "\\text{w}^{t+1} = \\text{w}^{t} - η\\dfrac{\\partial E(\\text{w}^t)}{\\partial \\text{w}^t} + \\alpha Δ\\text{w}^t\n",
    "$$\n",
    "$$\n",
    "Δ\\text{w}^{t+1} = - η\\dfrac{\\partial E(\\text{w}^t)}{\\partial \\text{w}^t} + \\alpha Δ\\text{w}^t\n",
    "$$\n",
    "デフォルトで$η=0.001, \\alpha = 0.9$として実装を行います。"
   ]
  },
  {
   "cell_type": "markdown",
   "metadata": {},
   "source": [
    "Momentum付きSGDの実装\n",
    "<br><br>\n",
    "あとで比較のために普通のSGDも記しておきます。"
   ]
  },
  {
   "cell_type": "code",
   "execution_count": 71,
   "metadata": {},
   "outputs": [],
   "source": [
    "class MomentumSGD(optim.Optimizer):\n",
    "    def __init__(self, params, lr = 0.001, momentum = 0.9) -> None:\n",
    "        if lr < 0:\n",
    "            raise ValueError(f\"Invalid learning rate: lr should be >= 0\")\n",
    "        if momentum < 0:\n",
    "            raise ValueError(f\"Invalid momentum rate: momentum should be >= 0\")\n",
    "        defaults = dict(lr = lr, momentum = momentum)\n",
    "        super(MomentumSGD, self).__init__(params, defaults)\n",
    "        self.state = dict()\n",
    "        for group in self.param_groups:\n",
    "            for p in group['params']:\n",
    "                #stateの初期化\n",
    "                self.state[p] = dict(momentum=torch.zeros_like(p.data))\n",
    "    def step(self, closure = None) -> None:\n",
    "        \"\"\"\n",
    "        parameterのgradはbackwardメソッドで計算済みと考える。\n",
    "        更新するパラメーターのt時点での値をW^{t}と表すと、\n",
    "        W^{t+1} <- W^{t} - lr * W.grad.data + d_W^{t} * momentum\n",
    "        d_W^{t} <- W^{t+1} - W^{t} =  - lr * W.grad.data + d_W^{t} * momentum\n",
    "        の式を用いて更新する。\n",
    "        \"\"\"\n",
    "        for group in self.param_groups:\n",
    "            for p in group['params']:\n",
    "                if p not in self.state:\n",
    "                    self.state[p] = dict(momentum=torch.zeros_like(p.data))\n",
    "                mom = self.state[p]['momentum']\n",
    "                d_p = - group['lr'] * p.grad.data + group[\"momentum\"] * mom\n",
    "                p.data += d_p\n",
    "                self.state[p]['momentum'] = d_p\n",
    "\n",
    "class NormalSGD(optim.Optimizer):\n",
    "    def __init__(self, params, lr = 0.001) -> None:\n",
    "        if lr < 0:\n",
    "            raise ValueError(f\"Invalid learning rate: lr should be >= 0\")\n",
    "        defaults = dict(lr = lr)\n",
    "        super(NormalSGD, self).__init__(params, defaults)\n",
    "    def step(self, closure = None) -> None:\n",
    "        for group in self.param_groups:\n",
    "            for p in group['params']:\n",
    "                d_p = - group['lr'] * p.grad.data\n",
    "                p.data += d_p"
   ]
  },
  {
   "cell_type": "markdown",
   "metadata": {},
   "source": [
    "一応、上手く動作するかを確認しておきましょう。<br>\n",
    "$y = 5x+1$上にデータが載っている場合の最適化を考えます。<br>"
   ]
  },
  {
   "cell_type": "code",
   "execution_count": 72,
   "metadata": {},
   "outputs": [],
   "source": [
    "#実験のためにデータを定義\n",
    "l1 = nn.Linear(1,1)\n",
    "l2 = nn.Linear(1,1)\n",
    "x = torch.arange(10).view(-1,1).float()\n",
    "y = 5*x+10\n",
    "sgd_mom = MomentumSGD(l1.parameters(), lr = 0.01)\n",
    "sgd = NormalSGD(l2.parameters(),lr = 0.01)"
   ]
  },
  {
   "cell_type": "markdown",
   "metadata": {},
   "source": [
    "Momentum付きとMomentum無しの損失も観察してみましょう。この際、ただしくMomentumが動作しているかも確認します。"
   ]
  },
  {
   "cell_type": "code",
   "execution_count": 73,
   "metadata": {},
   "outputs": [
    {
     "name": "stdout",
     "output_type": "stream",
     "text": [
      "\n",
      "epoch: 20, loss_mom: 248.1944580078125, loss: 28.044031143188477\n",
      "\n",
      "この時のMomentumのパラメーターの状態\n",
      " {Parameter containing:\n",
      "tensor([[10.0104]], requires_grad=True): {'momentum': tensor([[0.4427]])}, Parameter containing:\n",
      "tensor([-3.8284], requires_grad=True): {'momentum': tensor([-0.1398])}}\n",
      "\n",
      "epoch: 40, loss_mom: 73.67290496826172, loss: 17.450098037719727\n",
      "\n",
      "この時のMomentumのパラメーターの状態\n",
      " {Parameter containing:\n",
      "tensor([[6.3567]], requires_grad=True): {'momentum': tensor([[-0.1748]])}, Parameter containing:\n",
      "tensor([-4.1730], requires_grad=True): {'momentum': tensor([0.4233])}}\n",
      "\n",
      "epoch: 60, loss_mom: 13.311273574829102, loss: 13.902971267700195\n",
      "\n",
      "この時のMomentumのパラメーターの状態\n",
      " {Parameter containing:\n",
      "tensor([[6.4066]], requires_grad=True): {'momentum': tensor([[0.2352]])}, Parameter containing:\n",
      "tensor([3.9490], requires_grad=True): {'momentum': tensor([0.3720])}}\n",
      "\n",
      "epoch: 80, loss_mom: 0.6129915714263916, loss: 10.225205421447754\n",
      "\n",
      "この時のMomentumのパラメーターの状態\n",
      " {Parameter containing:\n",
      "tensor([[5.1107]], requires_grad=True): {'momentum': tensor([[0.0403]])}, Parameter containing:\n",
      "tensor([8.3735], requires_grad=True): {'momentum': tensor([0.1250])}}\n",
      "\n",
      "epoch: 100, loss_mom: 0.06486053764820099, loss: 5.978250503540039\n",
      "\n",
      "この時のMomentumのパラメーターの状態\n",
      " {Parameter containing:\n",
      "tensor([[4.9979]], requires_grad=True): {'momentum': tensor([[-0.0911]])}, Parameter containing:\n",
      "tensor([9.6548], requires_grad=True): {'momentum': tensor([0.0119])}}\n",
      "\n",
      "epoch: 120, loss_mom: 0.07584024220705032, loss: 1.361779808998108\n",
      "\n",
      "この時のMomentumのパラメーターの状態\n",
      " {Parameter containing:\n",
      "tensor([[5.0474]], requires_grad=True): {'momentum': tensor([[0.0779]])}, Parameter containing:\n",
      "tensor([9.7342], requires_grad=True): {'momentum': tensor([0.0044])}}\n",
      "\n",
      "epoch: 140, loss_mom: 0.08132696896791458, loss: 4.297753810882568\n",
      "\n",
      "この時のMomentumのパラメーターの状態\n",
      " {Parameter containing:\n",
      "tensor([[5.0227]], requires_grad=True): {'momentum': tensor([[-0.0698]])}, Parameter containing:\n",
      "tensor([9.6583], requires_grad=True): {'momentum': tensor([-0.0119])}}\n",
      "\n",
      "epoch: 160, loss_mom: 0.1783050149679184, loss: 11.352810859680176\n",
      "\n",
      "この時のMomentumのパラメーターの状態\n",
      " {Parameter containing:\n",
      "tensor([[5.0044]], requires_grad=True): {'momentum': tensor([[0.0514]])}, Parameter containing:\n",
      "tensor([9.5896], requires_grad=True): {'momentum': tensor([0.0030])}}\n"
     ]
    }
   ],
   "source": [
    "for i in range(175):\n",
    "    y_pred_mom = l1(x)\n",
    "    y_pred = l2(x)\n",
    "    loss_mom = ((y_pred_mom-y)**2).std()\n",
    "    loss_mom.backward()\n",
    "    loss = ((y_pred-y)**2).std()\n",
    "    loss.backward()\n",
    "    sgd_mom.step()\n",
    "    sgd_mom.zero_grad()\n",
    "    sgd.step()\n",
    "    sgd.zero_grad()\n",
    "\n",
    "    if (i+1) % 20 == 0:\n",
    "        print(f\"\\nepoch: {i+1}, loss_mom: {loss_mom.item()}, loss: {loss.item()}\")\n",
    "        print(\"\\nこの時のMomentumのパラメーターの状態\\n\", sgd_mom.state)"
   ]
  },
  {
   "cell_type": "code",
   "execution_count": 74,
   "metadata": {},
   "outputs": [
    {
     "data": {
      "image/png": "[encoded data removed]",
      "text/plain": [
       "<Figure size 640x480 with 1 Axes>"
      ]
     },
     "metadata": {},
     "output_type": "display_data"
    }
   ],
   "source": [
    "import matplotlib.pyplot as plt\n",
    "plt.scatter(x.numpy(),l1(x).detach().numpy(),marker = \"x\")\n",
    "plt.scatter(x.numpy(),l2(x).detach().numpy(),marker = \"v\")\n",
    "plt.plot(x.numpy(),y.numpy())\n",
    "plt.legend([\"Momentum\", \"Non Momentum\"])\n",
    "plt.show()"
   ]
  },
  {
   "cell_type": "markdown",
   "metadata": {},
   "source": [
    "### Appendix2\n",
    "Pytorchを普通の最適化に使えないか?\n",
    "例えば$y = \\dfrac{1}{x+10} + 5$という関数を<br>\n",
    "学習可能なパラメーターa, bをもちいて$y = \\dfrac{1}{x+a} + b$を用いてaとbを求めるように計算を行う。"
   ]
  },
  {
   "cell_type": "code",
   "execution_count": 75,
   "metadata": {},
   "outputs": [
    {
     "data": {
      "image/png": "[encoded data removed]",
      "text/plain": [
       "<Figure size 640x480 with 1 Axes>"
      ]
     },
     "metadata": {},
     "output_type": "display_data"
    }
   ],
   "source": [
    "import numpy as np\n",
    "import torch\n",
    "import matplotlib.pyplot as plt\n",
    "x = np.arange(50, dtype = \"float32\")\n",
    "y = 1/(x + 10) + 5. + np.random.uniform(size = 50, low = -0.01, high = 0.01)\n",
    "y = y.astype(\"float32\")\n",
    "plt.scatter(x,y,color = \"red\", marker = \"x\")\n",
    "plt.legend([\"y = $\\dfrac{1}{x+10}+5+error$\"])\n",
    "plt.show()"
   ]
  },
  {
   "cell_type": "code",
   "execution_count": 76,
   "metadata": {},
   "outputs": [],
   "source": [
    "#DataLoaderとパラメーターの定義\n",
    "from torch.utils.data import TensorDataset\n",
    "x_train = torch.from_numpy(x).view(-1,1)\n",
    "y_train = torch.from_numpy(y).view(-1,1)\n",
    "train_dl = TensorDataset(x_train, y_train)\n",
    "a = torch.ones(1, requires_grad=True).to(torch.float32)\n",
    "b = torch.ones(1, requires_grad=True).to(torch.float32)"
   ]
  },
  {
   "cell_type": "code",
   "execution_count": 77,
   "metadata": {},
   "outputs": [],
   "source": [
    "class Model(nn.Module):\n",
    "    def __init__(self, a, b):\n",
    "        super().__init__()\n",
    "        self.a = nn.Parameter(a)\n",
    "        self.b = nn.Parameter(b)\n",
    "    def forward(self,x):\n",
    "        return 1/(x+self.a) + self.b\n",
    "model = Model(a,b)\n",
    "criterion = nn.MSELoss(reduction=\"sum\")\n",
    "optimizer = optim.Adam(model.parameters(), lr = 0.01)"
   ]
  },
  {
   "cell_type": "code",
   "execution_count": 78,
   "metadata": {},
   "outputs": [
    {
     "name": "stdout",
     "output_type": "stream",
     "text": [
      "epoch: 200, loss: 0.00018702448869589716\n",
      "epoch: 400, loss: 0.00014653074322268367\n",
      "epoch: 600, loss: 0.00013629171007778496\n",
      "epoch: 800, loss: 0.00013620265235658735\n",
      "epoch: 1000, loss: 0.00013620265235658735\n"
     ]
    }
   ],
   "source": [
    "epochs = 1000\n",
    "best_score = 100\n",
    "for epoch in range(epochs):\n",
    "    for x_b, y_b in train_dl:\n",
    "        pred = model(x_b)\n",
    "        loss = criterion(pred, y_b)\n",
    "        loss.backward()\n",
    "        if loss.item() < best_score:\n",
    "            best_params = model.parameters\n",
    "        optimizer.step()\n",
    "        optimizer.zero_grad()\n",
    "    if (epoch+1) % 200 == 0:\n",
    "        print(f\"epoch: {epoch+1}, loss: {loss.item()}\")"
   ]
  },
  {
   "cell_type": "code",
   "execution_count": 79,
   "metadata": {},
   "outputs": [],
   "source": [
    "model.parameters = best_params"
   ]
  },
  {
   "cell_type": "code",
   "execution_count": 80,
   "metadata": {},
   "outputs": [],
   "source": [
    "x_test = np.linspace(0,49, num = 200).astype(\"float32\")\n",
    "x_test = torch.from_numpy(x_test)\n",
    "y_test = model(x_test)"
   ]
  },
  {
   "cell_type": "code",
   "execution_count": 81,
   "metadata": {},
   "outputs": [
    {
     "data": {
      "image/png": "[encoded data removed]",
      "text/plain": [
       "<Figure size 640x480 with 1 Axes>"
      ]
     },
     "metadata": {},
     "output_type": "display_data"
    }
   ],
   "source": [
    "plt.plot(x_test.detach().numpy(), y_test.detach().numpy())\n",
    "plt.scatter(x,y,color = \"red\", marker = \"x\")\n",
    "plt.legend([\"Prediction\",\"y = $\\dfrac{1}{x+10}+5+error$\"])\n",
    "plt.show()"
   ]
  },
  {
   "cell_type": "markdown",
   "metadata": {},
   "source": [
    "Pytorchが最適計算に使えることもわかった。<br>\n",
    "Pytorchの本質はこのようにモデルと損失関数を定義してさえしまえばあとは勝手に計算を行ってくれることであるとわかる。<br>\n",
    "従って、理論式があるようなデータを扱う時は理論に沿ってモデルを立てた方が変なモデルを作るよりもいい結果を導いてくれることがわかる。<br>"
   ]
  }
 ],
 "metadata": {
  "kernelspec": {
   "display_name": "Python 3.8.8 ('env': venv)",
   "language": "python",
   "name": "python3"
  },
  "language_info": {
   "codemirror_mode": {
    "name": "ipython",
    "version": 3
   },
   "file_extension": ".py",
   "mimetype": "text/x-python",
   "name": "python",
   "nbconvert_exporter": "python",
   "pygments_lexer": "ipython3",
   "version": "3.8.8"
  },
  "orig_nbformat": 4,
  "vscode": {
   "interpreter": {
    "hash": "1e2ef60554f914b7f3190499c85ea0c48ae4fc01e8f403cc646d16228abbf679"
   }
  }
 },
 "nbformat": 4,
 "nbformat_minor": 2
}
